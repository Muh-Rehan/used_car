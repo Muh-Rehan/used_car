{
  "cells": [
    {
      "cell_type": "markdown",
      "metadata": {
        "_cell_guid": "b1076dfc-b9ad-4769-8c92-a6c4dae69d19",
        "_uuid": "8f2839f25d086af736a60e9eeb907d3b93b6e0e5",
        "id": "v9qaggwzy0Xa"
      },
      "source": [
        "# Answer to COMPFEST 2020 Essay Competition\n",
        "Halo, perkenalkan saya Muhammad Raihan sebagai salah satu peserta kompetisi COMPFEST 2020\n",
        "Notebook ini adalah jawaban saya untuk pertanyaan dalam tes esai kompetisi COMPFEST 2020. Terimakasih!"
      ]
    },
    {
      "cell_type": "markdown",
      "metadata": {
        "id": "kaEpSau_y0Xu"
      },
      "source": [
        "***10 Pertanyaan Utama***\n",
        "1. Merek mobil apa saja yang tersedia dan ada berapa banyak mobil untuk tiap merek tersebut?\n",
        "2. Kota apa yang memiliki mobil bekas paling banyak?\n",
        "3. Bagaimana distribusi tahun edisi mobil-mobil bekas tersebut?\n",
        "4. Berapa banyak mobil yang memiliki total jarak pemakaian di bawah 100.000 kilometer?\n",
        "5. Pada batas berapa kilometer total jarak pemakaian bisa dikategorikan sebagai rendah atau tinggi? Sertakan argumen yang mendukung jawaban.\n",
        "6. Apakah terdapat outlier pada kolom Kilometers_Driven? Sertakan argumen yang mendukung jawaban.\n",
        "7. Apakah tahun pembuatan mobil berpengaruh terhadap total jarak pemakaian? Sertakan argumen yang mendukung jawaban.\n",
        "8. Berapa banyak mobil yang merupakan kepemilikan ketiga atau lebih?\n",
        "9. Tipe bahan bakar apa yang memiliki mileage (konsumsi bahan bakar) paling hemat?\n",
        "10. Apa saja faktor-faktor yang mempengaruhi harga mobil bekas di India? Sertakan argumen yang mendukung jawaban."
      ]
    },
    {
      "cell_type": "markdown",
      "metadata": {
        "id": "p_AlsvZny0Xx"
      },
      "source": [
        "### Import perangkat utilitas"
      ]
    },
    {
      "cell_type": "code",
      "execution_count": 1,
      "metadata": {
        "_kg_hide-input": true,
        "_kg_hide-output": false,
        "id": "8stpTiFoy0X0"
      },
      "outputs": [],
      "source": [
        "# Import perangkat utilitas\n",
        "import pandas as pd\n",
        "import matplotlib.pyplot as plt\n",
        "import seaborn as sns\n",
        "import numpy as np\n",
        "import statistics as stats\n",
        "\n",
        "sns.set(style=\"darkgrid\")"
      ]
    },
    {
      "cell_type": "markdown",
      "metadata": {
        "id": "Zp-zEVQoy0X6"
      },
      "source": [
        "### Penyusunan Dataframe"
      ]
    },
    {
      "cell_type": "code",
      "execution_count": 2,
      "metadata": {
        "id": "PkzVYRiAy0X8"
      },
      "outputs": [],
      "source": [
        "# Buat Dataframe dari CSV File\n",
        "dataset = \"used_car_data.csv\"\n",
        "df = pd.read_csv(dataset)"
      ]
    },
    {
      "cell_type": "markdown",
      "metadata": {
        "id": "U81hLT90y0X_"
      },
      "source": [
        "### Ukuran Dataframe"
      ]
    },
    {
      "cell_type": "code",
      "execution_count": 3,
      "metadata": {
        "_kg_hide-input": true,
        "_kg_hide-output": true,
        "colab": {
          "base_uri": "https://localhost:8080/"
        },
        "id": "BPlulPiry0YB",
        "outputId": "aea01ec0-578c-4cf8-d666-fc47748cc9a2"
      },
      "outputs": [
        {
          "name": "stdout",
          "output_type": "stream",
          "text": [
            "Dataframe Shape = (6019, 12)\n"
          ]
        }
      ],
      "source": [
        "# Lihat ukuran dari Dataframe\n",
        "print(\"Dataframe Shape =\", df.shape)"
      ]
    },
    {
      "cell_type": "markdown",
      "metadata": {
        "id": "MLOlJDj7y0YJ"
      },
      "source": [
        "### 5 Entri Teratas"
      ]
    },
    {
      "cell_type": "code",
      "execution_count": 5,
      "metadata": {
        "_kg_hide-input": true,
        "_kg_hide-output": false,
        "colab": {
          "base_uri": "https://localhost:8080/",
          "height": 424
        },
        "id": "iv6rvoGRy0YN",
        "outputId": "bab8e070-b00b-43c5-e62b-f3a501675bb2"
      },
      "outputs": [
        {
          "data": {
            "text/html": [
              "\n",
              "  <div id=\"df-d7bfaf1a-fbd3-4dfe-8705-a7193705d7e0\">\n",
              "    <div class=\"colab-df-container\">\n",
              "      <div>\n",
              "<style scoped>\n",
              "    .dataframe tbody tr th:only-of-type {\n",
              "        vertical-align: middle;\n",
              "    }\n",
              "\n",
              "    .dataframe tbody tr th {\n",
              "        vertical-align: top;\n",
              "    }\n",
              "\n",
              "    .dataframe thead th {\n",
              "        text-align: right;\n",
              "    }\n",
              "</style>\n",
              "<table border=\"1\" class=\"dataframe\">\n",
              "  <thead>\n",
              "    <tr style=\"text-align: right;\">\n",
              "      <th></th>\n",
              "      <th>Name</th>\n",
              "      <th>Location</th>\n",
              "      <th>Year</th>\n",
              "      <th>Kilometers_Driven</th>\n",
              "      <th>Fuel_Type</th>\n",
              "      <th>Transmission</th>\n",
              "      <th>Owner_Type</th>\n",
              "      <th>Mileage</th>\n",
              "      <th>Engine</th>\n",
              "      <th>Power</th>\n",
              "      <th>Seats</th>\n",
              "      <th>Price</th>\n",
              "    </tr>\n",
              "  </thead>\n",
              "  <tbody>\n",
              "    <tr>\n",
              "      <th>0</th>\n",
              "      <td>Maruti Wagon R LXI CNG</td>\n",
              "      <td>Mumbai</td>\n",
              "      <td>2010</td>\n",
              "      <td>72000</td>\n",
              "      <td>CNG</td>\n",
              "      <td>Manual</td>\n",
              "      <td>First</td>\n",
              "      <td>26.6 km/kg</td>\n",
              "      <td>998 CC</td>\n",
              "      <td>58.16 bhp</td>\n",
              "      <td>5.0</td>\n",
              "      <td>1.75</td>\n",
              "    </tr>\n",
              "    <tr>\n",
              "      <th>1</th>\n",
              "      <td>Hyundai Creta 1.6 CRDi SX Option</td>\n",
              "      <td>Pune</td>\n",
              "      <td>2015</td>\n",
              "      <td>41000</td>\n",
              "      <td>Diesel</td>\n",
              "      <td>Manual</td>\n",
              "      <td>First</td>\n",
              "      <td>19.67 kmpl</td>\n",
              "      <td>1582 CC</td>\n",
              "      <td>126.2 bhp</td>\n",
              "      <td>5.0</td>\n",
              "      <td>12.50</td>\n",
              "    </tr>\n",
              "    <tr>\n",
              "      <th>2</th>\n",
              "      <td>Honda Jazz V</td>\n",
              "      <td>Chennai</td>\n",
              "      <td>2011</td>\n",
              "      <td>46000</td>\n",
              "      <td>Petrol</td>\n",
              "      <td>Manual</td>\n",
              "      <td>First</td>\n",
              "      <td>18.2 kmpl</td>\n",
              "      <td>1199 CC</td>\n",
              "      <td>88.7 bhp</td>\n",
              "      <td>5.0</td>\n",
              "      <td>4.50</td>\n",
              "    </tr>\n",
              "    <tr>\n",
              "      <th>3</th>\n",
              "      <td>Maruti Ertiga VDI</td>\n",
              "      <td>Chennai</td>\n",
              "      <td>2012</td>\n",
              "      <td>87000</td>\n",
              "      <td>Diesel</td>\n",
              "      <td>Manual</td>\n",
              "      <td>First</td>\n",
              "      <td>20.77 kmpl</td>\n",
              "      <td>1248 CC</td>\n",
              "      <td>88.76 bhp</td>\n",
              "      <td>7.0</td>\n",
              "      <td>6.00</td>\n",
              "    </tr>\n",
              "    <tr>\n",
              "      <th>4</th>\n",
              "      <td>Audi A4 New 2.0 TDI Multitronic</td>\n",
              "      <td>Coimbatore</td>\n",
              "      <td>2013</td>\n",
              "      <td>40670</td>\n",
              "      <td>Diesel</td>\n",
              "      <td>Automatic</td>\n",
              "      <td>Second</td>\n",
              "      <td>15.2 kmpl</td>\n",
              "      <td>1968 CC</td>\n",
              "      <td>140.8 bhp</td>\n",
              "      <td>5.0</td>\n",
              "      <td>17.74</td>\n",
              "    </tr>\n",
              "  </tbody>\n",
              "</table>\n",
              "</div>\n",
              "      <button class=\"colab-df-convert\" onclick=\"convertToInteractive('df-d7bfaf1a-fbd3-4dfe-8705-a7193705d7e0')\"\n",
              "              title=\"Convert this dataframe to an interactive table.\"\n",
              "              style=\"display:none;\">\n",
              "        \n",
              "  <svg xmlns=\"http://www.w3.org/2000/svg\" height=\"24px\"viewBox=\"0 0 24 24\"\n",
              "       width=\"24px\">\n",
              "    <path d=\"M0 0h24v24H0V0z\" fill=\"none\"/>\n",
              "    <path d=\"M18.56 5.44l.94 2.06.94-2.06 2.06-.94-2.06-.94-.94-2.06-.94 2.06-2.06.94zm-11 1L8.5 8.5l.94-2.06 2.06-.94-2.06-.94L8.5 2.5l-.94 2.06-2.06.94zm10 10l.94 2.06.94-2.06 2.06-.94-2.06-.94-.94-2.06-.94 2.06-2.06.94z\"/><path d=\"M17.41 7.96l-1.37-1.37c-.4-.4-.92-.59-1.43-.59-.52 0-1.04.2-1.43.59L10.3 9.45l-7.72 7.72c-.78.78-.78 2.05 0 2.83L4 21.41c.39.39.9.59 1.41.59.51 0 1.02-.2 1.41-.59l7.78-7.78 2.81-2.81c.8-.78.8-2.07 0-2.86zM5.41 20L4 18.59l7.72-7.72 1.47 1.35L5.41 20z\"/>\n",
              "  </svg>\n",
              "      </button>\n",
              "      \n",
              "  <style>\n",
              "    .colab-df-container {\n",
              "      display:flex;\n",
              "      flex-wrap:wrap;\n",
              "      gap: 12px;\n",
              "    }\n",
              "\n",
              "    .colab-df-convert {\n",
              "      background-color: #E8F0FE;\n",
              "      border: none;\n",
              "      border-radius: 50%;\n",
              "      cursor: pointer;\n",
              "      display: none;\n",
              "      fill: #1967D2;\n",
              "      height: 32px;\n",
              "      padding: 0 0 0 0;\n",
              "      width: 32px;\n",
              "    }\n",
              "\n",
              "    .colab-df-convert:hover {\n",
              "      background-color: #E2EBFA;\n",
              "      box-shadow: 0px 1px 2px rgba(60, 64, 67, 0.3), 0px 1px 3px 1px rgba(60, 64, 67, 0.15);\n",
              "      fill: #174EA6;\n",
              "    }\n",
              "\n",
              "    [theme=dark] .colab-df-convert {\n",
              "      background-color: #3B4455;\n",
              "      fill: #D2E3FC;\n",
              "    }\n",
              "\n",
              "    [theme=dark] .colab-df-convert:hover {\n",
              "      background-color: #434B5C;\n",
              "      box-shadow: 0px 1px 3px 1px rgba(0, 0, 0, 0.15);\n",
              "      filter: drop-shadow(0px 1px 2px rgba(0, 0, 0, 0.3));\n",
              "      fill: #FFFFFF;\n",
              "    }\n",
              "  </style>\n",
              "\n",
              "      <script>\n",
              "        const buttonEl =\n",
              "          document.querySelector('#df-d7bfaf1a-fbd3-4dfe-8705-a7193705d7e0 button.colab-df-convert');\n",
              "        buttonEl.style.display =\n",
              "          google.colab.kernel.accessAllowed ? 'block' : 'none';\n",
              "\n",
              "        async function convertToInteractive(key) {\n",
              "          const element = document.querySelector('#df-d7bfaf1a-fbd3-4dfe-8705-a7193705d7e0');\n",
              "          const dataTable =\n",
              "            await google.colab.kernel.invokeFunction('convertToInteractive',\n",
              "                                                     [key], {});\n",
              "          if (!dataTable) return;\n",
              "\n",
              "          const docLinkHtml = 'Like what you see? Visit the ' +\n",
              "            '<a target=\"_blank\" href=https://colab.research.google.com/notebooks/data_table.ipynb>data table notebook</a>'\n",
              "            + ' to learn more about interactive tables.';\n",
              "          element.innerHTML = '';\n",
              "          dataTable['output_type'] = 'display_data';\n",
              "          await google.colab.output.renderOutput(dataTable, element);\n",
              "          const docLink = document.createElement('div');\n",
              "          docLink.innerHTML = docLinkHtml;\n",
              "          element.appendChild(docLink);\n",
              "        }\n",
              "      </script>\n",
              "    </div>\n",
              "  </div>\n",
              "  "
            ],
            "text/plain": [
              "                               Name    Location  Year  Kilometers_Driven  \\\n",
              "0            Maruti Wagon R LXI CNG      Mumbai  2010              72000   \n",
              "1  Hyundai Creta 1.6 CRDi SX Option        Pune  2015              41000   \n",
              "2                      Honda Jazz V     Chennai  2011              46000   \n",
              "3                 Maruti Ertiga VDI     Chennai  2012              87000   \n",
              "4   Audi A4 New 2.0 TDI Multitronic  Coimbatore  2013              40670   \n",
              "\n",
              "  Fuel_Type Transmission Owner_Type     Mileage   Engine      Power  Seats  \\\n",
              "0       CNG       Manual      First  26.6 km/kg   998 CC  58.16 bhp    5.0   \n",
              "1    Diesel       Manual      First  19.67 kmpl  1582 CC  126.2 bhp    5.0   \n",
              "2    Petrol       Manual      First   18.2 kmpl  1199 CC   88.7 bhp    5.0   \n",
              "3    Diesel       Manual      First  20.77 kmpl  1248 CC  88.76 bhp    7.0   \n",
              "4    Diesel    Automatic     Second   15.2 kmpl  1968 CC  140.8 bhp    5.0   \n",
              "\n",
              "   Price  \n",
              "0   1.75  \n",
              "1  12.50  \n",
              "2   4.50  \n",
              "3   6.00  \n",
              "4  17.74  "
            ]
          },
          "execution_count": 5,
          "metadata": {},
          "output_type": "execute_result"
        }
      ],
      "source": [
        "# Lihat lima entri teratas dalam data frame\n",
        "df.head()"
      ]
    },
    {
      "cell_type": "markdown",
      "metadata": {
        "id": "UQ-EqMRUy0YQ"
      },
      "source": [
        "### 5 Entri Terbawah"
      ]
    },
    {
      "cell_type": "code",
      "execution_count": 6,
      "metadata": {
        "_kg_hide-input": true,
        "colab": {
          "base_uri": "https://localhost:8080/",
          "height": 426
        },
        "id": "RWkuPWqCy0YU",
        "outputId": "05b67ac4-3b61-4111-8d5e-9e0c7a493ef4"
      },
      "outputs": [
        {
          "data": {
            "text/html": [
              "\n",
              "  <div id=\"df-c70130fb-9b0b-4e20-b7d0-890c6943e974\">\n",
              "    <div class=\"colab-df-container\">\n",
              "      <div>\n",
              "<style scoped>\n",
              "    .dataframe tbody tr th:only-of-type {\n",
              "        vertical-align: middle;\n",
              "    }\n",
              "\n",
              "    .dataframe tbody tr th {\n",
              "        vertical-align: top;\n",
              "    }\n",
              "\n",
              "    .dataframe thead th {\n",
              "        text-align: right;\n",
              "    }\n",
              "</style>\n",
              "<table border=\"1\" class=\"dataframe\">\n",
              "  <thead>\n",
              "    <tr style=\"text-align: right;\">\n",
              "      <th></th>\n",
              "      <th>Name</th>\n",
              "      <th>Location</th>\n",
              "      <th>Year</th>\n",
              "      <th>Kilometers_Driven</th>\n",
              "      <th>Fuel_Type</th>\n",
              "      <th>Transmission</th>\n",
              "      <th>Owner_Type</th>\n",
              "      <th>Mileage</th>\n",
              "      <th>Engine</th>\n",
              "      <th>Power</th>\n",
              "      <th>Seats</th>\n",
              "      <th>Price</th>\n",
              "    </tr>\n",
              "  </thead>\n",
              "  <tbody>\n",
              "    <tr>\n",
              "      <th>6014</th>\n",
              "      <td>Maruti Swift VDI</td>\n",
              "      <td>Delhi</td>\n",
              "      <td>2014</td>\n",
              "      <td>27365</td>\n",
              "      <td>Diesel</td>\n",
              "      <td>Manual</td>\n",
              "      <td>First</td>\n",
              "      <td>28.4 kmpl</td>\n",
              "      <td>1248 CC</td>\n",
              "      <td>74 bhp</td>\n",
              "      <td>5.0</td>\n",
              "      <td>4.75</td>\n",
              "    </tr>\n",
              "    <tr>\n",
              "      <th>6015</th>\n",
              "      <td>Hyundai Xcent 1.1 CRDi S</td>\n",
              "      <td>Jaipur</td>\n",
              "      <td>2015</td>\n",
              "      <td>100000</td>\n",
              "      <td>Diesel</td>\n",
              "      <td>Manual</td>\n",
              "      <td>First</td>\n",
              "      <td>24.4 kmpl</td>\n",
              "      <td>1120 CC</td>\n",
              "      <td>71 bhp</td>\n",
              "      <td>5.0</td>\n",
              "      <td>4.00</td>\n",
              "    </tr>\n",
              "    <tr>\n",
              "      <th>6016</th>\n",
              "      <td>Mahindra Xylo D4 BSIV</td>\n",
              "      <td>Jaipur</td>\n",
              "      <td>2012</td>\n",
              "      <td>55000</td>\n",
              "      <td>Diesel</td>\n",
              "      <td>Manual</td>\n",
              "      <td>Second</td>\n",
              "      <td>14.0 kmpl</td>\n",
              "      <td>2498 CC</td>\n",
              "      <td>112 bhp</td>\n",
              "      <td>8.0</td>\n",
              "      <td>2.90</td>\n",
              "    </tr>\n",
              "    <tr>\n",
              "      <th>6017</th>\n",
              "      <td>Maruti Wagon R VXI</td>\n",
              "      <td>Kolkata</td>\n",
              "      <td>2013</td>\n",
              "      <td>46000</td>\n",
              "      <td>Petrol</td>\n",
              "      <td>Manual</td>\n",
              "      <td>First</td>\n",
              "      <td>18.9 kmpl</td>\n",
              "      <td>998 CC</td>\n",
              "      <td>67.1 bhp</td>\n",
              "      <td>5.0</td>\n",
              "      <td>2.65</td>\n",
              "    </tr>\n",
              "    <tr>\n",
              "      <th>6018</th>\n",
              "      <td>Chevrolet Beat Diesel</td>\n",
              "      <td>Hyderabad</td>\n",
              "      <td>2011</td>\n",
              "      <td>47000</td>\n",
              "      <td>Diesel</td>\n",
              "      <td>Manual</td>\n",
              "      <td>First</td>\n",
              "      <td>25.44 kmpl</td>\n",
              "      <td>936 CC</td>\n",
              "      <td>57.6 bhp</td>\n",
              "      <td>5.0</td>\n",
              "      <td>2.50</td>\n",
              "    </tr>\n",
              "  </tbody>\n",
              "</table>\n",
              "</div>\n",
              "      <button class=\"colab-df-convert\" onclick=\"convertToInteractive('df-c70130fb-9b0b-4e20-b7d0-890c6943e974')\"\n",
              "              title=\"Convert this dataframe to an interactive table.\"\n",
              "              style=\"display:none;\">\n",
              "        \n",
              "  <svg xmlns=\"http://www.w3.org/2000/svg\" height=\"24px\"viewBox=\"0 0 24 24\"\n",
              "       width=\"24px\">\n",
              "    <path d=\"M0 0h24v24H0V0z\" fill=\"none\"/>\n",
              "    <path d=\"M18.56 5.44l.94 2.06.94-2.06 2.06-.94-2.06-.94-.94-2.06-.94 2.06-2.06.94zm-11 1L8.5 8.5l.94-2.06 2.06-.94-2.06-.94L8.5 2.5l-.94 2.06-2.06.94zm10 10l.94 2.06.94-2.06 2.06-.94-2.06-.94-.94-2.06-.94 2.06-2.06.94z\"/><path d=\"M17.41 7.96l-1.37-1.37c-.4-.4-.92-.59-1.43-.59-.52 0-1.04.2-1.43.59L10.3 9.45l-7.72 7.72c-.78.78-.78 2.05 0 2.83L4 21.41c.39.39.9.59 1.41.59.51 0 1.02-.2 1.41-.59l7.78-7.78 2.81-2.81c.8-.78.8-2.07 0-2.86zM5.41 20L4 18.59l7.72-7.72 1.47 1.35L5.41 20z\"/>\n",
              "  </svg>\n",
              "      </button>\n",
              "      \n",
              "  <style>\n",
              "    .colab-df-container {\n",
              "      display:flex;\n",
              "      flex-wrap:wrap;\n",
              "      gap: 12px;\n",
              "    }\n",
              "\n",
              "    .colab-df-convert {\n",
              "      background-color: #E8F0FE;\n",
              "      border: none;\n",
              "      border-radius: 50%;\n",
              "      cursor: pointer;\n",
              "      display: none;\n",
              "      fill: #1967D2;\n",
              "      height: 32px;\n",
              "      padding: 0 0 0 0;\n",
              "      width: 32px;\n",
              "    }\n",
              "\n",
              "    .colab-df-convert:hover {\n",
              "      background-color: #E2EBFA;\n",
              "      box-shadow: 0px 1px 2px rgba(60, 64, 67, 0.3), 0px 1px 3px 1px rgba(60, 64, 67, 0.15);\n",
              "      fill: #174EA6;\n",
              "    }\n",
              "\n",
              "    [theme=dark] .colab-df-convert {\n",
              "      background-color: #3B4455;\n",
              "      fill: #D2E3FC;\n",
              "    }\n",
              "\n",
              "    [theme=dark] .colab-df-convert:hover {\n",
              "      background-color: #434B5C;\n",
              "      box-shadow: 0px 1px 3px 1px rgba(0, 0, 0, 0.15);\n",
              "      filter: drop-shadow(0px 1px 2px rgba(0, 0, 0, 0.3));\n",
              "      fill: #FFFFFF;\n",
              "    }\n",
              "  </style>\n",
              "\n",
              "      <script>\n",
              "        const buttonEl =\n",
              "          document.querySelector('#df-c70130fb-9b0b-4e20-b7d0-890c6943e974 button.colab-df-convert');\n",
              "        buttonEl.style.display =\n",
              "          google.colab.kernel.accessAllowed ? 'block' : 'none';\n",
              "\n",
              "        async function convertToInteractive(key) {\n",
              "          const element = document.querySelector('#df-c70130fb-9b0b-4e20-b7d0-890c6943e974');\n",
              "          const dataTable =\n",
              "            await google.colab.kernel.invokeFunction('convertToInteractive',\n",
              "                                                     [key], {});\n",
              "          if (!dataTable) return;\n",
              "\n",
              "          const docLinkHtml = 'Like what you see? Visit the ' +\n",
              "            '<a target=\"_blank\" href=https://colab.research.google.com/notebooks/data_table.ipynb>data table notebook</a>'\n",
              "            + ' to learn more about interactive tables.';\n",
              "          element.innerHTML = '';\n",
              "          dataTable['output_type'] = 'display_data';\n",
              "          await google.colab.output.renderOutput(dataTable, element);\n",
              "          const docLink = document.createElement('div');\n",
              "          docLink.innerHTML = docLinkHtml;\n",
              "          element.appendChild(docLink);\n",
              "        }\n",
              "      </script>\n",
              "    </div>\n",
              "  </div>\n",
              "  "
            ],
            "text/plain": [
              "                          Name   Location  Year  Kilometers_Driven Fuel_Type  \\\n",
              "6014          Maruti Swift VDI      Delhi  2014              27365    Diesel   \n",
              "6015  Hyundai Xcent 1.1 CRDi S     Jaipur  2015             100000    Diesel   \n",
              "6016     Mahindra Xylo D4 BSIV     Jaipur  2012              55000    Diesel   \n",
              "6017        Maruti Wagon R VXI    Kolkata  2013              46000    Petrol   \n",
              "6018     Chevrolet Beat Diesel  Hyderabad  2011              47000    Diesel   \n",
              "\n",
              "     Transmission Owner_Type     Mileage   Engine     Power  Seats  Price  \n",
              "6014       Manual      First   28.4 kmpl  1248 CC    74 bhp    5.0   4.75  \n",
              "6015       Manual      First   24.4 kmpl  1120 CC    71 bhp    5.0   4.00  \n",
              "6016       Manual     Second   14.0 kmpl  2498 CC   112 bhp    8.0   2.90  \n",
              "6017       Manual      First   18.9 kmpl   998 CC  67.1 bhp    5.0   2.65  \n",
              "6018       Manual      First  25.44 kmpl   936 CC  57.6 bhp    5.0   2.50  "
            ]
          },
          "execution_count": 6,
          "metadata": {},
          "output_type": "execute_result"
        }
      ],
      "source": [
        "# Lihat lima entri terbawah dalam data frame\n",
        "df.tail()"
      ]
    },
    {
      "cell_type": "markdown",
      "metadata": {
        "id": "dI76EavNy0YX"
      },
      "source": [
        "### Properti Dataframe"
      ]
    },
    {
      "cell_type": "code",
      "execution_count": 7,
      "metadata": {
        "_kg_hide-input": true,
        "_kg_hide-output": false,
        "colab": {
          "base_uri": "https://localhost:8080/",
          "height": 426
        },
        "id": "47mLSYody0YZ",
        "outputId": "4899d9f4-50bc-4154-a6dc-9c44e15e6927"
      },
      "outputs": [
        {
          "data": {
            "text/html": [
              "\n",
              "  <div id=\"df-ae81c946-ff70-4fd6-951d-9c6b13b9443b\">\n",
              "    <div class=\"colab-df-container\">\n",
              "      <div>\n",
              "<style scoped>\n",
              "    .dataframe tbody tr th:only-of-type {\n",
              "        vertical-align: middle;\n",
              "    }\n",
              "\n",
              "    .dataframe tbody tr th {\n",
              "        vertical-align: top;\n",
              "    }\n",
              "\n",
              "    .dataframe thead th {\n",
              "        text-align: right;\n",
              "    }\n",
              "</style>\n",
              "<table border=\"1\" class=\"dataframe\">\n",
              "  <thead>\n",
              "    <tr style=\"text-align: right;\">\n",
              "      <th></th>\n",
              "      <th>Dtypes</th>\n",
              "      <th>Unique Counts</th>\n",
              "      <th>NaN Counts</th>\n",
              "    </tr>\n",
              "  </thead>\n",
              "  <tbody>\n",
              "    <tr>\n",
              "      <th>Name</th>\n",
              "      <td>object</td>\n",
              "      <td>1876</td>\n",
              "      <td>0</td>\n",
              "    </tr>\n",
              "    <tr>\n",
              "      <th>Location</th>\n",
              "      <td>object</td>\n",
              "      <td>11</td>\n",
              "      <td>0</td>\n",
              "    </tr>\n",
              "    <tr>\n",
              "      <th>Year</th>\n",
              "      <td>int64</td>\n",
              "      <td>22</td>\n",
              "      <td>0</td>\n",
              "    </tr>\n",
              "    <tr>\n",
              "      <th>Kilometers_Driven</th>\n",
              "      <td>int64</td>\n",
              "      <td>3093</td>\n",
              "      <td>0</td>\n",
              "    </tr>\n",
              "    <tr>\n",
              "      <th>Fuel_Type</th>\n",
              "      <td>object</td>\n",
              "      <td>5</td>\n",
              "      <td>0</td>\n",
              "    </tr>\n",
              "    <tr>\n",
              "      <th>Transmission</th>\n",
              "      <td>object</td>\n",
              "      <td>2</td>\n",
              "      <td>0</td>\n",
              "    </tr>\n",
              "    <tr>\n",
              "      <th>Owner_Type</th>\n",
              "      <td>object</td>\n",
              "      <td>4</td>\n",
              "      <td>0</td>\n",
              "    </tr>\n",
              "    <tr>\n",
              "      <th>Mileage</th>\n",
              "      <td>object</td>\n",
              "      <td>442</td>\n",
              "      <td>2</td>\n",
              "    </tr>\n",
              "    <tr>\n",
              "      <th>Engine</th>\n",
              "      <td>object</td>\n",
              "      <td>146</td>\n",
              "      <td>36</td>\n",
              "    </tr>\n",
              "    <tr>\n",
              "      <th>Power</th>\n",
              "      <td>object</td>\n",
              "      <td>372</td>\n",
              "      <td>36</td>\n",
              "    </tr>\n",
              "    <tr>\n",
              "      <th>Seats</th>\n",
              "      <td>float64</td>\n",
              "      <td>9</td>\n",
              "      <td>42</td>\n",
              "    </tr>\n",
              "    <tr>\n",
              "      <th>Price</th>\n",
              "      <td>float64</td>\n",
              "      <td>1373</td>\n",
              "      <td>0</td>\n",
              "    </tr>\n",
              "  </tbody>\n",
              "</table>\n",
              "</div>\n",
              "      <button class=\"colab-df-convert\" onclick=\"convertToInteractive('df-ae81c946-ff70-4fd6-951d-9c6b13b9443b')\"\n",
              "              title=\"Convert this dataframe to an interactive table.\"\n",
              "              style=\"display:none;\">\n",
              "        \n",
              "  <svg xmlns=\"http://www.w3.org/2000/svg\" height=\"24px\"viewBox=\"0 0 24 24\"\n",
              "       width=\"24px\">\n",
              "    <path d=\"M0 0h24v24H0V0z\" fill=\"none\"/>\n",
              "    <path d=\"M18.56 5.44l.94 2.06.94-2.06 2.06-.94-2.06-.94-.94-2.06-.94 2.06-2.06.94zm-11 1L8.5 8.5l.94-2.06 2.06-.94-2.06-.94L8.5 2.5l-.94 2.06-2.06.94zm10 10l.94 2.06.94-2.06 2.06-.94-2.06-.94-.94-2.06-.94 2.06-2.06.94z\"/><path d=\"M17.41 7.96l-1.37-1.37c-.4-.4-.92-.59-1.43-.59-.52 0-1.04.2-1.43.59L10.3 9.45l-7.72 7.72c-.78.78-.78 2.05 0 2.83L4 21.41c.39.39.9.59 1.41.59.51 0 1.02-.2 1.41-.59l7.78-7.78 2.81-2.81c.8-.78.8-2.07 0-2.86zM5.41 20L4 18.59l7.72-7.72 1.47 1.35L5.41 20z\"/>\n",
              "  </svg>\n",
              "      </button>\n",
              "      \n",
              "  <style>\n",
              "    .colab-df-container {\n",
              "      display:flex;\n",
              "      flex-wrap:wrap;\n",
              "      gap: 12px;\n",
              "    }\n",
              "\n",
              "    .colab-df-convert {\n",
              "      background-color: #E8F0FE;\n",
              "      border: none;\n",
              "      border-radius: 50%;\n",
              "      cursor: pointer;\n",
              "      display: none;\n",
              "      fill: #1967D2;\n",
              "      height: 32px;\n",
              "      padding: 0 0 0 0;\n",
              "      width: 32px;\n",
              "    }\n",
              "\n",
              "    .colab-df-convert:hover {\n",
              "      background-color: #E2EBFA;\n",
              "      box-shadow: 0px 1px 2px rgba(60, 64, 67, 0.3), 0px 1px 3px 1px rgba(60, 64, 67, 0.15);\n",
              "      fill: #174EA6;\n",
              "    }\n",
              "\n",
              "    [theme=dark] .colab-df-convert {\n",
              "      background-color: #3B4455;\n",
              "      fill: #D2E3FC;\n",
              "    }\n",
              "\n",
              "    [theme=dark] .colab-df-convert:hover {\n",
              "      background-color: #434B5C;\n",
              "      box-shadow: 0px 1px 3px 1px rgba(0, 0, 0, 0.15);\n",
              "      filter: drop-shadow(0px 1px 2px rgba(0, 0, 0, 0.3));\n",
              "      fill: #FFFFFF;\n",
              "    }\n",
              "  </style>\n",
              "\n",
              "      <script>\n",
              "        const buttonEl =\n",
              "          document.querySelector('#df-ae81c946-ff70-4fd6-951d-9c6b13b9443b button.colab-df-convert');\n",
              "        buttonEl.style.display =\n",
              "          google.colab.kernel.accessAllowed ? 'block' : 'none';\n",
              "\n",
              "        async function convertToInteractive(key) {\n",
              "          const element = document.querySelector('#df-ae81c946-ff70-4fd6-951d-9c6b13b9443b');\n",
              "          const dataTable =\n",
              "            await google.colab.kernel.invokeFunction('convertToInteractive',\n",
              "                                                     [key], {});\n",
              "          if (!dataTable) return;\n",
              "\n",
              "          const docLinkHtml = 'Like what you see? Visit the ' +\n",
              "            '<a target=\"_blank\" href=https://colab.research.google.com/notebooks/data_table.ipynb>data table notebook</a>'\n",
              "            + ' to learn more about interactive tables.';\n",
              "          element.innerHTML = '';\n",
              "          dataTable['output_type'] = 'display_data';\n",
              "          await google.colab.output.renderOutput(dataTable, element);\n",
              "          const docLink = document.createElement('div');\n",
              "          docLink.innerHTML = docLinkHtml;\n",
              "          element.appendChild(docLink);\n",
              "        }\n",
              "      </script>\n",
              "    </div>\n",
              "  </div>\n",
              "  "
            ],
            "text/plain": [
              "                    Dtypes  Unique Counts  NaN Counts\n",
              "Name                object           1876           0\n",
              "Location            object             11           0\n",
              "Year                 int64             22           0\n",
              "Kilometers_Driven    int64           3093           0\n",
              "Fuel_Type           object              5           0\n",
              "Transmission        object              2           0\n",
              "Owner_Type          object              4           0\n",
              "Mileage             object            442           2\n",
              "Engine              object            146          36\n",
              "Power               object            372          36\n",
              "Seats              float64              9          42\n",
              "Price              float64           1373           0"
            ]
          },
          "execution_count": 7,
          "metadata": {},
          "output_type": "execute_result"
        }
      ],
      "source": [
        "# Inspeksi beberapa properti dari Dataframe\n",
        "\n",
        "# Lihat tipe dari masing-masing kolom\n",
        "df_dtypes = df.dtypes.rename(\"Dtypes\")\n",
        "\n",
        "# Lihat jumlah unik untuk setiap tipe kolom \"object\"\n",
        "df_nunique = df.nunique().rename(\"Unique Counts\")\n",
        "\n",
        "# Lihat ada berapa \"NaN\" dari setiap kolom\n",
        "df_nan_count = df.isnull().sum().rename(\"NaN Counts\")\n",
        "\n",
        "df_property = pd.concat([df_dtypes, df_nunique, df_nan_count], axis=\"columns\")\n",
        "df_property"
      ]
    },
    {
      "cell_type": "markdown",
      "metadata": {
        "id": "WOCTf5d8y0Yc"
      },
      "source": [
        "Berdasarkan kelima entri teratas *dataframe* dan beberapa properti di atas, diketahui bahwa kolom \"Mileage, Engine, dan Power\" yang merupakan entri angka memiliki *dtype* berupa \"**object**\". Tentu hal ini karena dalam entrinya mereka juga ditulis dengan satuannya. Oleh karena itu perlu adanya penyesuaian *dtype* untuk ketiga kolom tersebut. Selain itu, ketiga kolom tersebut bersama kolom \"Seats\" juga memiliki data kosong sehingga perlu adanya penyesuaian lagi bagi kolom-kolom tersebut."
      ]
    },
    {
      "cell_type": "markdown",
      "metadata": {
        "id": "paDR18bYy0Ye"
      },
      "source": [
        "# SOAL PERTAMA\n",
        "*Merek mobil apa saja yang tersedia dan ada berapa banyak mobil untuk tiap merek tersebut?*"
      ]
    },
    {
      "cell_type": "code",
      "execution_count": null,
      "metadata": {
        "_kg_hide-input": true,
        "_kg_hide-output": true,
        "id": "sYFlheU2y0Yf",
        "outputId": "c81b0ec5-8b8d-4bba-a4e9-4bf458130fcd"
      },
      "outputs": [
        {
          "data": {
            "text/plain": [
              "0              Maruti Wagon R LXI CNG\n",
              "1    Hyundai Creta 1.6 CRDi SX Option\n",
              "2                        Honda Jazz V\n",
              "3                   Maruti Ertiga VDI\n",
              "4     Audi A4 New 2.0 TDI Multitronic\n",
              "Name: Name, dtype: object"
            ]
          },
          "execution_count": 7,
          "metadata": {},
          "output_type": "execute_result"
        }
      ],
      "source": [
        "# Lihat kelima entri teratas kolom \"Name\"\n",
        "df[\"Name\"].head()"
      ]
    },
    {
      "cell_type": "markdown",
      "metadata": {
        "id": "Vw1xlD9iy0Yg"
      },
      "source": [
        "Diketahui bahwa dalam kolom tersebut, merek utama mobil juga diikuti dengan tipe mobil tersebut. Oleh karena itu, perlu diambil *string* pertama dari masing-masing entry dalam kolom tersebut baru kemudian dihitung frekuensinya."
      ]
    },
    {
      "cell_type": "code",
      "execution_count": null,
      "metadata": {
        "_kg_hide-input": true,
        "_kg_hide-output": false,
        "id": "puRJFNVly0Yh",
        "outputId": "5995f0c8-b470-4326-bcc9-5c626bf9e3ea"
      },
      "outputs": [
        {
          "data": {
            "text/html": [
              "<div>\n",
              "<style scoped>\n",
              "    .dataframe tbody tr th:only-of-type {\n",
              "        vertical-align: middle;\n",
              "    }\n",
              "\n",
              "    .dataframe tbody tr th {\n",
              "        vertical-align: top;\n",
              "    }\n",
              "\n",
              "    .dataframe thead th {\n",
              "        text-align: right;\n",
              "    }\n",
              "</style>\n",
              "<table border=\"1\" class=\"dataframe\">\n",
              "  <thead>\n",
              "    <tr style=\"text-align: right;\">\n",
              "      <th></th>\n",
              "      <th>Brand</th>\n",
              "      <th>Brand</th>\n",
              "    </tr>\n",
              "  </thead>\n",
              "  <tbody>\n",
              "    <tr>\n",
              "      <th>0</th>\n",
              "      <td>Maruti</td>\n",
              "      <td>1211</td>\n",
              "    </tr>\n",
              "    <tr>\n",
              "      <th>1</th>\n",
              "      <td>Hyundai</td>\n",
              "      <td>1107</td>\n",
              "    </tr>\n",
              "    <tr>\n",
              "      <th>2</th>\n",
              "      <td>Honda</td>\n",
              "      <td>608</td>\n",
              "    </tr>\n",
              "    <tr>\n",
              "      <th>3</th>\n",
              "      <td>Toyota</td>\n",
              "      <td>411</td>\n",
              "    </tr>\n",
              "    <tr>\n",
              "      <th>4</th>\n",
              "      <td>Mercedes-Benz</td>\n",
              "      <td>318</td>\n",
              "    </tr>\n",
              "    <tr>\n",
              "      <th>5</th>\n",
              "      <td>Volkswagen</td>\n",
              "      <td>315</td>\n",
              "    </tr>\n",
              "    <tr>\n",
              "      <th>6</th>\n",
              "      <td>Ford</td>\n",
              "      <td>300</td>\n",
              "    </tr>\n",
              "    <tr>\n",
              "      <th>7</th>\n",
              "      <td>Mahindra</td>\n",
              "      <td>272</td>\n",
              "    </tr>\n",
              "    <tr>\n",
              "      <th>8</th>\n",
              "      <td>BMW</td>\n",
              "      <td>267</td>\n",
              "    </tr>\n",
              "    <tr>\n",
              "      <th>9</th>\n",
              "      <td>Audi</td>\n",
              "      <td>236</td>\n",
              "    </tr>\n",
              "    <tr>\n",
              "      <th>10</th>\n",
              "      <td>Tata</td>\n",
              "      <td>186</td>\n",
              "    </tr>\n",
              "    <tr>\n",
              "      <th>11</th>\n",
              "      <td>Skoda</td>\n",
              "      <td>173</td>\n",
              "    </tr>\n",
              "    <tr>\n",
              "      <th>12</th>\n",
              "      <td>Renault</td>\n",
              "      <td>145</td>\n",
              "    </tr>\n",
              "    <tr>\n",
              "      <th>13</th>\n",
              "      <td>Chevrolet</td>\n",
              "      <td>121</td>\n",
              "    </tr>\n",
              "    <tr>\n",
              "      <th>14</th>\n",
              "      <td>Nissan</td>\n",
              "      <td>91</td>\n",
              "    </tr>\n",
              "    <tr>\n",
              "      <th>15</th>\n",
              "      <td>Land</td>\n",
              "      <td>60</td>\n",
              "    </tr>\n",
              "    <tr>\n",
              "      <th>16</th>\n",
              "      <td>Jaguar</td>\n",
              "      <td>40</td>\n",
              "    </tr>\n",
              "    <tr>\n",
              "      <th>17</th>\n",
              "      <td>Fiat</td>\n",
              "      <td>28</td>\n",
              "    </tr>\n",
              "    <tr>\n",
              "      <th>18</th>\n",
              "      <td>Mitsubishi</td>\n",
              "      <td>27</td>\n",
              "    </tr>\n",
              "    <tr>\n",
              "      <th>19</th>\n",
              "      <td>Mini</td>\n",
              "      <td>26</td>\n",
              "    </tr>\n",
              "    <tr>\n",
              "      <th>20</th>\n",
              "      <td>Volvo</td>\n",
              "      <td>21</td>\n",
              "    </tr>\n",
              "    <tr>\n",
              "      <th>21</th>\n",
              "      <td>Porsche</td>\n",
              "      <td>18</td>\n",
              "    </tr>\n",
              "    <tr>\n",
              "      <th>22</th>\n",
              "      <td>Jeep</td>\n",
              "      <td>15</td>\n",
              "    </tr>\n",
              "    <tr>\n",
              "      <th>23</th>\n",
              "      <td>Datsun</td>\n",
              "      <td>13</td>\n",
              "    </tr>\n",
              "    <tr>\n",
              "      <th>24</th>\n",
              "      <td>Force</td>\n",
              "      <td>3</td>\n",
              "    </tr>\n",
              "    <tr>\n",
              "      <th>25</th>\n",
              "      <td>ISUZU</td>\n",
              "      <td>2</td>\n",
              "    </tr>\n",
              "    <tr>\n",
              "      <th>26</th>\n",
              "      <td>Bentley</td>\n",
              "      <td>1</td>\n",
              "    </tr>\n",
              "    <tr>\n",
              "      <th>27</th>\n",
              "      <td>Lamborghini</td>\n",
              "      <td>1</td>\n",
              "    </tr>\n",
              "    <tr>\n",
              "      <th>28</th>\n",
              "      <td>Ambassador</td>\n",
              "      <td>1</td>\n",
              "    </tr>\n",
              "    <tr>\n",
              "      <th>29</th>\n",
              "      <td>Isuzu</td>\n",
              "      <td>1</td>\n",
              "    </tr>\n",
              "    <tr>\n",
              "      <th>30</th>\n",
              "      <td>Smart</td>\n",
              "      <td>1</td>\n",
              "    </tr>\n",
              "  </tbody>\n",
              "</table>\n",
              "</div>"
            ],
            "text/plain": [
              "            Brand  Brand\n",
              "0          Maruti   1211\n",
              "1         Hyundai   1107\n",
              "2           Honda    608\n",
              "3          Toyota    411\n",
              "4   Mercedes-Benz    318\n",
              "5      Volkswagen    315\n",
              "6            Ford    300\n",
              "7        Mahindra    272\n",
              "8             BMW    267\n",
              "9            Audi    236\n",
              "10           Tata    186\n",
              "11          Skoda    173\n",
              "12        Renault    145\n",
              "13      Chevrolet    121\n",
              "14         Nissan     91\n",
              "15           Land     60\n",
              "16         Jaguar     40\n",
              "17           Fiat     28\n",
              "18     Mitsubishi     27\n",
              "19           Mini     26\n",
              "20          Volvo     21\n",
              "21        Porsche     18\n",
              "22           Jeep     15\n",
              "23         Datsun     13\n",
              "24          Force      3\n",
              "25          ISUZU      2\n",
              "26        Bentley      1\n",
              "27    Lamborghini      1\n",
              "28     Ambassador      1\n",
              "29          Isuzu      1\n",
              "30          Smart      1"
            ]
          },
          "execution_count": 8,
          "metadata": {},
          "output_type": "execute_result"
        }
      ],
      "source": [
        "# Menangkap merek utama dari setiap entri\n",
        "brand = df[\"Name\"].map(lambda brand: brand.split()[0]).rename(\"Brand\")\n",
        "\n",
        "# Memasukkan ke dalam Dataframe untuk kemudahan visualisasi\n",
        "df_brand = df.join(brand)\n",
        "\n",
        "# Menghitung frekuensi\n",
        "brand_counts = brand.value_counts().reset_index()\\\n",
        "                .rename(columns={\"index\": \"Brand\", \"Name\": \"Counts\"})\n",
        "brand_counts"
      ]
    },
    {
      "cell_type": "code",
      "execution_count": null,
      "metadata": {
        "_kg_hide-input": true,
        "id": "dwNaV0hhy0Yj",
        "outputId": "44777266-9dfd-474a-b2da-7144f652a0f6"
      },
      "outputs": [
        {
          "data": {
            "image/png": "[encoded data removed]",
            "text/plain": [
              "<Figure size 720x432 with 1 Axes>"
            ]
          },
          "metadata": {},
          "output_type": "display_data"
        }
      ],
      "source": [
        "# Visualisasi jawaban\n",
        "fig, ax = plt.subplots(figsize=[10, 6])\n",
        "\n",
        "sns.countplot(x=\"Brand\", data=df_brand,\n",
        "              order=df_brand[\"Brand\"].value_counts().index);\n",
        "\n",
        "ax.set_xticklabels(ax.get_xticklabels(), rotation=45,\n",
        "                   ha=\"right\", rotation_mode=\"anchor\", fontsize=8);\n",
        "\n",
        "ax.set_title(\"Frequency of Brands\", fontsize=14)\n",
        "ax.set_ylabel(\"Counts\");"
      ]
    },
    {
      "cell_type": "markdown",
      "metadata": {
        "id": "QrPpriVPy0Yk"
      },
      "source": [
        "***JAWABAN***: Terdapat di *output* atau dalam variabel `brand_counts`"
      ]
    },
    {
      "cell_type": "markdown",
      "metadata": {
        "id": "A8iQ5vFQy0Yl"
      },
      "source": [
        "# SOAL KEDUA\n",
        "*Kota apa yang memiliki mobil bekas paling banyak?*"
      ]
    },
    {
      "cell_type": "code",
      "execution_count": null,
      "metadata": {
        "_kg_hide-input": true,
        "id": "LkbAdjmNy0Ym",
        "outputId": "2a08dcdd-a457-463d-c372-f58d8a3fe754"
      },
      "outputs": [
        {
          "data": {
            "text/html": [
              "<div>\n",
              "<style scoped>\n",
              "    .dataframe tbody tr th:only-of-type {\n",
              "        vertical-align: middle;\n",
              "    }\n",
              "\n",
              "    .dataframe tbody tr th {\n",
              "        vertical-align: top;\n",
              "    }\n",
              "\n",
              "    .dataframe thead th {\n",
              "        text-align: right;\n",
              "    }\n",
              "</style>\n",
              "<table border=\"1\" class=\"dataframe\">\n",
              "  <thead>\n",
              "    <tr style=\"text-align: right;\">\n",
              "      <th></th>\n",
              "      <th>Location</th>\n",
              "      <th>Counts</th>\n",
              "    </tr>\n",
              "  </thead>\n",
              "  <tbody>\n",
              "    <tr>\n",
              "      <th>0</th>\n",
              "      <td>Mumbai</td>\n",
              "      <td>790</td>\n",
              "    </tr>\n",
              "    <tr>\n",
              "      <th>1</th>\n",
              "      <td>Hyderabad</td>\n",
              "      <td>742</td>\n",
              "    </tr>\n",
              "    <tr>\n",
              "      <th>2</th>\n",
              "      <td>Kochi</td>\n",
              "      <td>651</td>\n",
              "    </tr>\n",
              "    <tr>\n",
              "      <th>3</th>\n",
              "      <td>Coimbatore</td>\n",
              "      <td>636</td>\n",
              "    </tr>\n",
              "    <tr>\n",
              "      <th>4</th>\n",
              "      <td>Pune</td>\n",
              "      <td>622</td>\n",
              "    </tr>\n",
              "    <tr>\n",
              "      <th>5</th>\n",
              "      <td>Delhi</td>\n",
              "      <td>554</td>\n",
              "    </tr>\n",
              "    <tr>\n",
              "      <th>6</th>\n",
              "      <td>Kolkata</td>\n",
              "      <td>535</td>\n",
              "    </tr>\n",
              "    <tr>\n",
              "      <th>7</th>\n",
              "      <td>Chennai</td>\n",
              "      <td>494</td>\n",
              "    </tr>\n",
              "    <tr>\n",
              "      <th>8</th>\n",
              "      <td>Jaipur</td>\n",
              "      <td>413</td>\n",
              "    </tr>\n",
              "    <tr>\n",
              "      <th>9</th>\n",
              "      <td>Bangalore</td>\n",
              "      <td>358</td>\n",
              "    </tr>\n",
              "    <tr>\n",
              "      <th>10</th>\n",
              "      <td>Ahmedabad</td>\n",
              "      <td>224</td>\n",
              "    </tr>\n",
              "  </tbody>\n",
              "</table>\n",
              "</div>"
            ],
            "text/plain": [
              "      Location  Counts\n",
              "0       Mumbai     790\n",
              "1    Hyderabad     742\n",
              "2        Kochi     651\n",
              "3   Coimbatore     636\n",
              "4         Pune     622\n",
              "5        Delhi     554\n",
              "6      Kolkata     535\n",
              "7      Chennai     494\n",
              "8       Jaipur     413\n",
              "9    Bangalore     358\n",
              "10   Ahmedabad     224"
            ]
          },
          "execution_count": 10,
          "metadata": {},
          "output_type": "execute_result"
        }
      ],
      "source": [
        "# Menghitung frekuensi entri pada kolom \"Location\"\n",
        "locations = df[\"Location\"].value_counts().reset_index()\\\n",
        "            .rename(columns={\"index\": \"Location\", \"Location\": \"Counts\"})\n",
        "locations"
      ]
    },
    {
      "cell_type": "code",
      "execution_count": null,
      "metadata": {
        "_kg_hide-input": true,
        "id": "uhHnvsHvy0Yn",
        "outputId": "5c88108d-adfe-4553-8219-1e20c22c8c6d"
      },
      "outputs": [
        {
          "data": {
            "image/png": "[encoded data removed]",
            "text/plain": [
              "<Figure size 504x504 with 1 Axes>"
            ]
          },
          "metadata": {},
          "output_type": "display_data"
        }
      ],
      "source": [
        "# Visualisasi jawaban\n",
        "\n",
        "fig, ax = plt.subplots(figsize=[7, 7])\n",
        "\n",
        "sns.countplot(x=\"Location\", data=df,\n",
        "              order=df[\"Location\"].value_counts().index);\n",
        "\n",
        "ax.set_xticklabels(ax.get_xticklabels(), rotation=45,\n",
        "                   ha=\"right\", rotation_mode=\"anchor\");\n",
        "\n",
        "ax.set_title(\"Frequency of Locations\", fontsize=14);\n",
        "ax.set_ylabel(\"Counts\");"
      ]
    },
    {
      "cell_type": "markdown",
      "metadata": {
        "id": "Vq-n44iAy0Yo"
      },
      "source": [
        "***JAWABAN***: Kota Mumbai, disusul Kota Hyderabad dan Kochi."
      ]
    },
    {
      "cell_type": "markdown",
      "metadata": {
        "id": "pcqsEGIOy0Yp"
      },
      "source": [
        "# SOAL KETIGA\n",
        "*Bagaimana distribusi tahun edisi mobil-mobil bekas tersebut?*"
      ]
    },
    {
      "cell_type": "code",
      "execution_count": null,
      "metadata": {
        "_kg_hide-input": true,
        "_kg_hide-output": true,
        "id": "aBgXEVPdy0Ys",
        "outputId": "59513b86-2257-475e-d2e4-3d46c22da99a"
      },
      "outputs": [
        {
          "data": {
            "text/html": [
              "<div>\n",
              "<style scoped>\n",
              "    .dataframe tbody tr th:only-of-type {\n",
              "        vertical-align: middle;\n",
              "    }\n",
              "\n",
              "    .dataframe tbody tr th {\n",
              "        vertical-align: top;\n",
              "    }\n",
              "\n",
              "    .dataframe thead th {\n",
              "        text-align: right;\n",
              "    }\n",
              "</style>\n",
              "<table border=\"1\" class=\"dataframe\">\n",
              "  <thead>\n",
              "    <tr style=\"text-align: right;\">\n",
              "      <th></th>\n",
              "      <th>Year</th>\n",
              "      <th>Count</th>\n",
              "    </tr>\n",
              "  </thead>\n",
              "  <tbody>\n",
              "    <tr>\n",
              "      <th>0</th>\n",
              "      <td>1998</td>\n",
              "      <td>4</td>\n",
              "    </tr>\n",
              "    <tr>\n",
              "      <th>1</th>\n",
              "      <td>1999</td>\n",
              "      <td>2</td>\n",
              "    </tr>\n",
              "    <tr>\n",
              "      <th>2</th>\n",
              "      <td>2000</td>\n",
              "      <td>4</td>\n",
              "    </tr>\n",
              "    <tr>\n",
              "      <th>3</th>\n",
              "      <td>2001</td>\n",
              "      <td>8</td>\n",
              "    </tr>\n",
              "    <tr>\n",
              "      <th>4</th>\n",
              "      <td>2002</td>\n",
              "      <td>15</td>\n",
              "    </tr>\n",
              "    <tr>\n",
              "      <th>5</th>\n",
              "      <td>2003</td>\n",
              "      <td>17</td>\n",
              "    </tr>\n",
              "    <tr>\n",
              "      <th>6</th>\n",
              "      <td>2004</td>\n",
              "      <td>31</td>\n",
              "    </tr>\n",
              "    <tr>\n",
              "      <th>7</th>\n",
              "      <td>2005</td>\n",
              "      <td>57</td>\n",
              "    </tr>\n",
              "    <tr>\n",
              "      <th>8</th>\n",
              "      <td>2006</td>\n",
              "      <td>78</td>\n",
              "    </tr>\n",
              "    <tr>\n",
              "      <th>9</th>\n",
              "      <td>2007</td>\n",
              "      <td>125</td>\n",
              "    </tr>\n",
              "    <tr>\n",
              "      <th>10</th>\n",
              "      <td>2008</td>\n",
              "      <td>174</td>\n",
              "    </tr>\n",
              "    <tr>\n",
              "      <th>11</th>\n",
              "      <td>2009</td>\n",
              "      <td>198</td>\n",
              "    </tr>\n",
              "    <tr>\n",
              "      <th>12</th>\n",
              "      <td>2010</td>\n",
              "      <td>342</td>\n",
              "    </tr>\n",
              "    <tr>\n",
              "      <th>13</th>\n",
              "      <td>2011</td>\n",
              "      <td>466</td>\n",
              "    </tr>\n",
              "    <tr>\n",
              "      <th>14</th>\n",
              "      <td>2012</td>\n",
              "      <td>580</td>\n",
              "    </tr>\n",
              "    <tr>\n",
              "      <th>15</th>\n",
              "      <td>2013</td>\n",
              "      <td>649</td>\n",
              "    </tr>\n",
              "    <tr>\n",
              "      <th>16</th>\n",
              "      <td>2014</td>\n",
              "      <td>797</td>\n",
              "    </tr>\n",
              "    <tr>\n",
              "      <th>17</th>\n",
              "      <td>2015</td>\n",
              "      <td>744</td>\n",
              "    </tr>\n",
              "    <tr>\n",
              "      <th>18</th>\n",
              "      <td>2016</td>\n",
              "      <td>741</td>\n",
              "    </tr>\n",
              "    <tr>\n",
              "      <th>19</th>\n",
              "      <td>2017</td>\n",
              "      <td>587</td>\n",
              "    </tr>\n",
              "    <tr>\n",
              "      <th>20</th>\n",
              "      <td>2018</td>\n",
              "      <td>298</td>\n",
              "    </tr>\n",
              "    <tr>\n",
              "      <th>21</th>\n",
              "      <td>2019</td>\n",
              "      <td>102</td>\n",
              "    </tr>\n",
              "  </tbody>\n",
              "</table>\n",
              "</div>"
            ],
            "text/plain": [
              "    Year  Count\n",
              "0   1998      4\n",
              "1   1999      2\n",
              "2   2000      4\n",
              "3   2001      8\n",
              "4   2002     15\n",
              "5   2003     17\n",
              "6   2004     31\n",
              "7   2005     57\n",
              "8   2006     78\n",
              "9   2007    125\n",
              "10  2008    174\n",
              "11  2009    198\n",
              "12  2010    342\n",
              "13  2011    466\n",
              "14  2012    580\n",
              "15  2013    649\n",
              "16  2014    797\n",
              "17  2015    744\n",
              "18  2016    741\n",
              "19  2017    587\n",
              "20  2018    298\n",
              "21  2019    102"
            ]
          },
          "execution_count": 12,
          "metadata": {},
          "output_type": "execute_result"
        }
      ],
      "source": [
        "# Menghitung frekuensi entri pada kolom \"Year\"\n",
        "year_dist = df[\"Year\"].value_counts().sort_index().reset_index()\\\n",
        "                      .rename(columns={\"index\": \"Year\", \"Year\": \"Count\"})\n",
        "year_dist"
      ]
    },
    {
      "cell_type": "code",
      "execution_count": null,
      "metadata": {
        "_kg_hide-input": true,
        "id": "F3785SaZy0Yt",
        "outputId": "d1cea910-b1df-415d-bce8-3f151da27302"
      },
      "outputs": [
        {
          "data": {
            "text/html": [
              "<div>\n",
              "<style scoped>\n",
              "    .dataframe tbody tr th:only-of-type {\n",
              "        vertical-align: middle;\n",
              "    }\n",
              "\n",
              "    .dataframe tbody tr th {\n",
              "        vertical-align: top;\n",
              "    }\n",
              "\n",
              "    .dataframe thead th {\n",
              "        text-align: right;\n",
              "    }\n",
              "</style>\n",
              "<table border=\"1\" class=\"dataframe\">\n",
              "  <thead>\n",
              "    <tr style=\"text-align: right;\">\n",
              "      <th></th>\n",
              "      <th>Stats</th>\n",
              "      <th>Value</th>\n",
              "    </tr>\n",
              "  </thead>\n",
              "  <tbody>\n",
              "    <tr>\n",
              "      <th>0</th>\n",
              "      <td>count</td>\n",
              "      <td>6019.000000</td>\n",
              "    </tr>\n",
              "    <tr>\n",
              "      <th>1</th>\n",
              "      <td>mean</td>\n",
              "      <td>2013.358199</td>\n",
              "    </tr>\n",
              "    <tr>\n",
              "      <th>2</th>\n",
              "      <td>std</td>\n",
              "      <td>3.269742</td>\n",
              "    </tr>\n",
              "    <tr>\n",
              "      <th>3</th>\n",
              "      <td>min</td>\n",
              "      <td>1998.000000</td>\n",
              "    </tr>\n",
              "    <tr>\n",
              "      <th>4</th>\n",
              "      <td>25%</td>\n",
              "      <td>2011.000000</td>\n",
              "    </tr>\n",
              "    <tr>\n",
              "      <th>5</th>\n",
              "      <td>50%</td>\n",
              "      <td>2014.000000</td>\n",
              "    </tr>\n",
              "    <tr>\n",
              "      <th>6</th>\n",
              "      <td>75%</td>\n",
              "      <td>2016.000000</td>\n",
              "    </tr>\n",
              "    <tr>\n",
              "      <th>7</th>\n",
              "      <td>max</td>\n",
              "      <td>2019.000000</td>\n",
              "    </tr>\n",
              "  </tbody>\n",
              "</table>\n",
              "</div>"
            ],
            "text/plain": [
              "   Stats        Value\n",
              "0  count  6019.000000\n",
              "1   mean  2013.358199\n",
              "2    std     3.269742\n",
              "3    min  1998.000000\n",
              "4    25%  2011.000000\n",
              "5    50%  2014.000000\n",
              "6    75%  2016.000000\n",
              "7    max  2019.000000"
            ]
          },
          "execution_count": 13,
          "metadata": {},
          "output_type": "execute_result"
        }
      ],
      "source": [
        "df[\"Year\"].describe().reset_index()\\\n",
        "          .rename(columns={\"index\": \"Stats\", \"Year\": \"Value\"})"
      ]
    },
    {
      "cell_type": "code",
      "execution_count": null,
      "metadata": {
        "_kg_hide-input": true,
        "id": "yo4poT-1y0Yu",
        "outputId": "fd7261eb-2a4a-4b77-d6c8-f8d56e4825cd"
      },
      "outputs": [
        {
          "data": {
            "image/png": "[encoded data removed]",
            "text/plain": [
              "<Figure size 1008x504 with 2 Axes>"
            ]
          },
          "metadata": {},
          "output_type": "display_data"
        }
      ],
      "source": [
        "# Menyiapkan grafik untuk memvisualisasikan distribusi\n",
        "fig, ax = plt.subplots(1, 2, figsize=[14, 7])\n",
        "\n",
        "# Visualisasi dalam grafik batang\n",
        "sns.countplot(x=\"Year\", data=df, ax=ax[0], palette=\"Greens_d\");\n",
        "ax[0].set_xticklabels(ax[0].get_xticklabels(), rotation=45,\n",
        "                      ha=\"right\", rotation_mode=\"anchor\");\n",
        "ax[0].set_title(\"Bar Distribution\", fontsize=20, fontweight=\"bold\");\n",
        "ax[0].set_xlabel(\"Year\", fontsize=13);\n",
        "ax[0].set_ylabel(\"Frequency\", fontsize=13);\n",
        "\n",
        "# Visualisai dalam bentuk box plot\n",
        "sns.boxplot(y=\"Year\", data=df, palette=\"Set2\");\n",
        "ax[1].set_title(\"Box Plot Distribution\", fontsize=20, fontweight=\"bold\");\n",
        "\n",
        "fig.tight_layout(pad=2.5)"
      ]
    },
    {
      "cell_type": "markdown",
      "metadata": {
        "id": "R-GCPuOiy0Yv"
      },
      "source": [
        "***JAWABAN***: Distribusi memiliki bentuk *negatively skewed* dengan rincian jawaban terdapat pada *output* di atas"
      ]
    },
    {
      "cell_type": "markdown",
      "metadata": {
        "id": "jdE-ecIfy0Yw"
      },
      "source": [
        "# SOAL KEEMPAT\n",
        "*Berapa banyak mobil yang memiliki total jarak pemakaian di bawah 100.000 kilometer?*"
      ]
    },
    {
      "cell_type": "code",
      "execution_count": null,
      "metadata": {
        "_kg_hide-input": true,
        "_kg_hide-output": true,
        "id": "SzOcWYR-y0Yw",
        "outputId": "d8a1205b-246e-415e-b2fd-84ca6172ef91"
      },
      "outputs": [
        {
          "name": "stdout",
          "output_type": "stream",
          "text": [
            "There are 5470 cars with kilometers driven below 100,000 km.\n"
          ]
        }
      ],
      "source": [
        "# Menghitung berapa banyak mobil dengan jarak pemakaian < 100 ribu km\n",
        "below_one_hundred_thousands = df[df[\"Kilometers_Driven\"] < 100_000]\n",
        "print(\"There are\", below_one_hundred_thousands.shape[0],\n",
        "      \"cars with kilometers driven below 100,000 km.\")"
      ]
    },
    {
      "cell_type": "markdown",
      "metadata": {
        "id": "v9q8ZvM7y0Yx"
      },
      "source": [
        "***JAWABAN***: 5470 mobil memiliki total jarak pemakaian di bawah 100.000 km."
      ]
    },
    {
      "cell_type": "markdown",
      "metadata": {
        "id": "kk3Vdz-2y0Yy"
      },
      "source": [
        "# SOAL KELIMA\n",
        "*Pada batas berapa kilometer total jarak pemakaian bisa dikategorikan sebagai rendah atau tinggi? Sertakan argumen yang mendukung jawaban.*"
      ]
    },
    {
      "cell_type": "markdown",
      "metadata": {
        "id": "-FL3iuW6y0Yy"
      },
      "source": [
        "Kategori **rendah** atau **tinggi** suatu entri dapat ditentukan dengan mencari Q1 dan Q3 dari data. Apabila:\n",
        "* Entri < Q1 = rendah\n",
        "* Entri > Q3 = tinggi\n",
        "* Q1 <= Entri <= Q3 = biasa"
      ]
    },
    {
      "cell_type": "code",
      "execution_count": null,
      "metadata": {
        "_kg_hide-input": true,
        "_kg_hide-output": true,
        "id": "CdKuQ-U5y0Yz",
        "outputId": "2167e793-b638-47a9-eaf6-efceacb71400"
      },
      "outputs": [
        {
          "name": "stdout",
          "output_type": "stream",
          "text": [
            "Low entry is when the entry is below 34000.0 km\n",
            "High entry is when the entry is above 73000.0 km\n"
          ]
        }
      ],
      "source": [
        "# Mengambil data total jarak pemakaian dan mengurutkannya\n",
        "km_driven = df[\"Kilometers_Driven\"].sort_values(ascending=False)\n",
        "\n",
        "# Ringkasan statistik\n",
        "stats_km_driven = round(km_driven.describe(), 3)\n",
        "\n",
        "# Mengambil Q1 dan Q3\n",
        "Q1 = stats_km_driven[\"25%\"]\n",
        "Q3 = stats_km_driven[\"75%\"]\n",
        "\n",
        "print(\"Low entry is when the entry is below {} km\"\\\n",
        "     .format(Q1))\n",
        "print(\"High entry is when the entry is above {} km\"\\\n",
        "     .format(Q3))"
      ]
    },
    {
      "cell_type": "markdown",
      "metadata": {
        "id": "qJusSRAcy0Y0"
      },
      "source": [
        "***JAWABAN***: Batasnya adalah:\n",
        "* Rendah ==> x < 34.000 km\n",
        "* Tinggi ==> x > 73.000 km"
      ]
    },
    {
      "cell_type": "markdown",
      "metadata": {
        "id": "3aKxVyTmy0Y1"
      },
      "source": [
        "# SOAL KEENAM\n",
        "*Apakah terdapat outlier pada kolom Kilometers_Driven? Sertakan argumen yang mendukung jawaban.*"
      ]
    },
    {
      "cell_type": "markdown",
      "metadata": {
        "id": "yqLY8kEAy0Y2"
      },
      "source": [
        "Perhitungan *outlier* bisa diukur dengan menggunakan *Interquartile Range*, dengan rumus sebagai berikut:\n",
        "* Interquartile Range = Q3 - Q1\n",
        "* Outlier tinggi = Q3 + 1,5(IQR)\n",
        "* Outlier rendah = Q1 - 1,5(IQR)"
      ]
    },
    {
      "cell_type": "code",
      "execution_count": null,
      "metadata": {
        "_kg_hide-input": true,
        "_kg_hide-output": true,
        "id": "mU311zhoy0Y2",
        "outputId": "92a076c0-b6f4-4c73-af0c-eceed7991f4c"
      },
      "outputs": [
        {
          "name": "stdout",
          "output_type": "stream",
          "text": [
            "High Outlier Counts = 202\n",
            "Low Outlier Counts = 0\n",
            "Total Outliers = 202\n"
          ]
        }
      ],
      "source": [
        "# Menetapkan Interquartile Range\n",
        "IQR = Q3 - Q1\n",
        "\n",
        "# Menetapkan batas outlier\n",
        "high_outlier_border = Q3 + 1.5*IQR\n",
        "low_outlier_border = Q1 - 1.5*IQR\n",
        "\n",
        "# Menghitung jumlah outlier tinggi dan outlier rendah\n",
        "high_outlier_counts = km_driven[km_driven > high_outlier_border].count()\n",
        "low_outlier_counts = km_driven[km_driven < low_outlier_border].count()\n",
        "\n",
        "# Menulis jumlah outlier\n",
        "print(\"High Outlier Counts = {}\".format(high_outlier_counts))\n",
        "print(\"Low Outlier Counts = {}\".format(low_outlier_counts))\n",
        "print(\"Total Outliers = {}\".format(high_outlier_counts + low_outlier_counts))"
      ]
    },
    {
      "cell_type": "markdown",
      "metadata": {
        "id": "1MIjINMSy0Y3"
      },
      "source": [
        "***JAWABAN***: Ada (High Outlier ada 202, tidak ada low outlier)"
      ]
    },
    {
      "cell_type": "markdown",
      "metadata": {
        "id": "t06zwBgvy0Y4"
      },
      "source": [
        "# SOAL KETUJUH\n",
        "*Apakah tahun pembuatan mobil berpengaruh terhadap total jarak pemakaian? Sertakan argumen yang mendukung jawaban.*"
      ]
    },
    {
      "cell_type": "code",
      "execution_count": null,
      "metadata": {
        "_kg_hide-input": true,
        "_kg_hide-output": true,
        "id": "JTuGFgaOy0Y5",
        "outputId": "60fa11f4-0926-4b30-a9c8-349171fa68b8"
      },
      "outputs": [
        {
          "name": "stdout",
          "output_type": "stream",
          "text": [
            "Correlation between year and kilometers driven is = -0.17304756550241315\n"
          ]
        },
        {
          "data": {
            "text/html": [
              "<div>\n",
              "<style scoped>\n",
              "    .dataframe tbody tr th:only-of-type {\n",
              "        vertical-align: middle;\n",
              "    }\n",
              "\n",
              "    .dataframe tbody tr th {\n",
              "        vertical-align: top;\n",
              "    }\n",
              "\n",
              "    .dataframe thead th {\n",
              "        text-align: right;\n",
              "    }\n",
              "</style>\n",
              "<table border=\"1\" class=\"dataframe\">\n",
              "  <thead>\n",
              "    <tr style=\"text-align: right;\">\n",
              "      <th></th>\n",
              "      <th>Year</th>\n",
              "      <th>Kilometers_Driven</th>\n",
              "    </tr>\n",
              "  </thead>\n",
              "  <tbody>\n",
              "    <tr>\n",
              "      <th>Year</th>\n",
              "      <td>1.000000</td>\n",
              "      <td>-0.173048</td>\n",
              "    </tr>\n",
              "    <tr>\n",
              "      <th>Kilometers_Driven</th>\n",
              "      <td>-0.173048</td>\n",
              "      <td>1.000000</td>\n",
              "    </tr>\n",
              "  </tbody>\n",
              "</table>\n",
              "</div>"
            ],
            "text/plain": [
              "                       Year  Kilometers_Driven\n",
              "Year               1.000000          -0.173048\n",
              "Kilometers_Driven -0.173048           1.000000"
            ]
          },
          "execution_count": 18,
          "metadata": {},
          "output_type": "execute_result"
        }
      ],
      "source": [
        "# Membentuk Dataframe yang berisi kolom \"Year dan Kilometers_Driven\" saja\n",
        "year_km_driven = df[[\"Year\", \"Kilometers_Driven\"]].sort_values(\"Year\")\n",
        "\n",
        "\n",
        "# Melihat korelasi antara kedua variabel tersebut\n",
        "print(\"Correlation between year and kilometers driven is =\",\n",
        "      year_km_driven.corr().loc[\"Year\", \"Kilometers_Driven\"])\n",
        "year_km_driven.corr()"
      ]
    },
    {
      "cell_type": "code",
      "execution_count": null,
      "metadata": {
        "_kg_hide-input": true,
        "id": "5T-vPa_ry0Y6",
        "outputId": "c52682a6-1ef5-499b-c19d-c121ffb6188c"
      },
      "outputs": [
        {
          "data": {
            "image/png": "[encoded data removed]",
            "text/plain": [
              "<Figure size 432x288 with 1 Axes>"
            ]
          },
          "metadata": {},
          "output_type": "display_data"
        }
      ],
      "source": [
        "# Melihat korelasi dalam grafik\n",
        "sns.regplot(x=\"Year\", y=\"Kilometers_Driven\",\n",
        "            data=year_km_driven, scatter_kws={\"s\":14});\n",
        "plt.xticks(np.arange(df[\"Year\"].min(), df[\"Year\"].max(), 5))\n",
        "plt.title(\"Linear Regression Plot\");"
      ]
    },
    {
      "cell_type": "markdown",
      "metadata": {
        "id": "iijw8lLby0Y7"
      },
      "source": [
        "Diketahui bahwa terdapat satu outlier pada kolom \"Kilometers_Driven\" yang sangat besar, mari inspeksi entri tersebut."
      ]
    },
    {
      "cell_type": "code",
      "execution_count": null,
      "metadata": {
        "_kg_hide-input": true,
        "_kg_hide-output": true,
        "id": "8Gyb5n7cy0Y7",
        "outputId": "fce6d56d-29f3-4292-efe1-3ef215c1cbe7"
      },
      "outputs": [
        {
          "data": {
            "text/html": [
              "<div>\n",
              "<style scoped>\n",
              "    .dataframe tbody tr th:only-of-type {\n",
              "        vertical-align: middle;\n",
              "    }\n",
              "\n",
              "    .dataframe tbody tr th {\n",
              "        vertical-align: top;\n",
              "    }\n",
              "\n",
              "    .dataframe thead th {\n",
              "        text-align: right;\n",
              "    }\n",
              "</style>\n",
              "<table border=\"1\" class=\"dataframe\">\n",
              "  <thead>\n",
              "    <tr style=\"text-align: right;\">\n",
              "      <th></th>\n",
              "      <th>Name</th>\n",
              "      <th>Location</th>\n",
              "      <th>Year</th>\n",
              "      <th>Kilometers_Driven</th>\n",
              "      <th>Fuel_Type</th>\n",
              "      <th>Transmission</th>\n",
              "      <th>Owner_Type</th>\n",
              "      <th>Mileage</th>\n",
              "      <th>Engine</th>\n",
              "      <th>Power</th>\n",
              "      <th>Seats</th>\n",
              "      <th>Price</th>\n",
              "    </tr>\n",
              "  </thead>\n",
              "  <tbody>\n",
              "    <tr>\n",
              "      <th>2328</th>\n",
              "      <td>BMW X5 xDrive 30d M Sport</td>\n",
              "      <td>Chennai</td>\n",
              "      <td>2017</td>\n",
              "      <td>6500000</td>\n",
              "      <td>Diesel</td>\n",
              "      <td>Automatic</td>\n",
              "      <td>First</td>\n",
              "      <td>15.97 kmpl</td>\n",
              "      <td>2993 CC</td>\n",
              "      <td>258 bhp</td>\n",
              "      <td>5.0</td>\n",
              "      <td>65.0</td>\n",
              "    </tr>\n",
              "  </tbody>\n",
              "</table>\n",
              "</div>"
            ],
            "text/plain": [
              "                           Name Location  Year  Kilometers_Driven Fuel_Type  \\\n",
              "2328  BMW X5 xDrive 30d M Sport  Chennai  2017            6500000    Diesel   \n",
              "\n",
              "     Transmission Owner_Type     Mileage   Engine    Power  Seats  Price  \n",
              "2328    Automatic      First  15.97 kmpl  2993 CC  258 bhp    5.0   65.0  "
            ]
          },
          "execution_count": 20,
          "metadata": {},
          "output_type": "execute_result"
        }
      ],
      "source": [
        "df_kmdriven_huge_outlier = df[df[\"Kilometers_Driven\"] > 1_000_000]\n",
        "\n",
        "# 1 juta adalah estimasi dari grafik bahwa tidak ada entri lain\n",
        "# selain outlier tersebut yang lebih besar dari 1 juta\n",
        "\n",
        "df_kmdriven_huge_outlier                                 "
      ]
    },
    {
      "cell_type": "markdown",
      "metadata": {
        "id": "GaYYb5xwy0Y7"
      },
      "source": [
        "Betul saja, bahwa terdapat satu entri yang memiliki nilai outlier lebih dari 5 juta! Coba seandainya kita tidak memasukkan entri tersebut dalam perhitungan korelasi."
      ]
    },
    {
      "cell_type": "code",
      "execution_count": null,
      "metadata": {
        "_kg_hide-input": true,
        "_kg_hide-output": true,
        "id": "iiBDDsPsy0Y8",
        "outputId": "8f0b93f6-117a-433c-f7db-34e44011e425"
      },
      "outputs": [
        {
          "name": "stdout",
          "output_type": "stream",
          "text": [
            "The new correlation between year and kilometers driven is = -0.44851853107916306\n"
          ]
        },
        {
          "data": {
            "text/html": [
              "<div>\n",
              "<style scoped>\n",
              "    .dataframe tbody tr th:only-of-type {\n",
              "        vertical-align: middle;\n",
              "    }\n",
              "\n",
              "    .dataframe tbody tr th {\n",
              "        vertical-align: top;\n",
              "    }\n",
              "\n",
              "    .dataframe thead th {\n",
              "        text-align: right;\n",
              "    }\n",
              "</style>\n",
              "<table border=\"1\" class=\"dataframe\">\n",
              "  <thead>\n",
              "    <tr style=\"text-align: right;\">\n",
              "      <th></th>\n",
              "      <th>Year</th>\n",
              "      <th>Kilometers_Driven</th>\n",
              "    </tr>\n",
              "  </thead>\n",
              "  <tbody>\n",
              "    <tr>\n",
              "      <th>Year</th>\n",
              "      <td>1.000000</td>\n",
              "      <td>-0.448519</td>\n",
              "    </tr>\n",
              "    <tr>\n",
              "      <th>Kilometers_Driven</th>\n",
              "      <td>-0.448519</td>\n",
              "      <td>1.000000</td>\n",
              "    </tr>\n",
              "  </tbody>\n",
              "</table>\n",
              "</div>"
            ],
            "text/plain": [
              "                       Year  Kilometers_Driven\n",
              "Year               1.000000          -0.448519\n",
              "Kilometers_Driven -0.448519           1.000000"
            ]
          },
          "execution_count": 21,
          "metadata": {},
          "output_type": "execute_result"
        }
      ],
      "source": [
        "# Keluarkan outlier tersebut dari Dataframe\n",
        "no_big_outlier_year_kmdriven = year_km_driven.drop(index=2328)\n",
        "\n",
        "\n",
        "# Melihat korelasi antara kedua variabel dalam Dataframe baru tersebut\n",
        "print(\"The new correlation between year and kilometers driven is =\",\n",
        "      no_big_outlier_year_kmdriven.corr().loc[\"Year\", \"Kilometers_Driven\"])\n",
        "no_big_outlier_year_kmdriven.corr()"
      ]
    },
    {
      "cell_type": "code",
      "execution_count": null,
      "metadata": {
        "_kg_hide-input": true,
        "id": "lhoTuhI7y0Y8",
        "outputId": "f8fae535-2fda-4c83-b68c-351316c3c3f3"
      },
      "outputs": [
        {
          "data": {
            "image/png": "[encoded data removed]",
            "text/plain": [
              "<Figure size 864x360 with 2 Axes>"
            ]
          },
          "metadata": {},
          "output_type": "display_data"
        }
      ],
      "source": [
        "# Memvisualisasikan kedua korelasi tersebut\n",
        "fig, ax = plt.subplots(1, 2, figsize=[12, 5], clear=True)\n",
        "\n",
        "\n",
        "# Grafik dengan outlier besar tersebut\n",
        "sns.regplot(x=\"Year\", y=\"Kilometers_Driven\", data=year_km_driven,\n",
        "            ax=ax[0], color=\"g\", scatter_kws={\"s\":14});\n",
        "ax[0].set_title(\"With-Huge-Outlier Plot\");\n",
        "ax[0].set_xticks(np.arange(df[\"Year\"].min(), df[\"Year\"].max(), 5))\n",
        "\n",
        "\n",
        "# Grafik tanpa outlier besar tersebut\n",
        "sns.regplot(x=\"Year\", y=\"Kilometers_Driven\",\n",
        "            data=no_big_outlier_year_kmdriven,\n",
        "            color=\"m\", scatter_kws={\"s\":14});\n",
        "ax[1].set_title(\"Without-Huge-Outlier Plot\");\n",
        "ax[1].set_xticks(np.arange(df[\"Year\"].min(), df[\"Year\"].max(), 5))\n",
        "\n",
        "\n",
        "# Memberi jarak kedua grafik\n",
        "fig.tight_layout(pad=6)"
      ]
    },
    {
      "cell_type": "markdown",
      "metadata": {
        "id": "BCyH8GR5y0Y9"
      },
      "source": [
        "***JAWABAN***: Tidak ada. Meskipun telah dicoba baik dengan outlier besar tersebut maupun tanpanya, tetap saja korelasi yang tercipta belum cukup kuat untuk dapat dinyatakan bahwa terdapat hubungan antara tahun pembuatan mobil dengan total jarak pemakaian."
      ]
    },
    {
      "cell_type": "markdown",
      "metadata": {
        "id": "vKx3gQ8iy0Y9"
      },
      "source": [
        "# SOAL KEDELAPAN\n",
        "*Berapa banyak mobil yang merupakan kepemilikan ketiga atau lebih?*"
      ]
    },
    {
      "cell_type": "code",
      "execution_count": null,
      "metadata": {
        "_kg_hide-input": true,
        "_kg_hide-output": true,
        "id": "NJ8IpbVSy0Y9",
        "outputId": "797c5e4c-33e2-4208-e612-aebced7536ab"
      },
      "outputs": [
        {
          "name": "stdout",
          "output_type": "stream",
          "text": [
            "['First' 'Second' 'Fourth & Above' 'Third']\n"
          ]
        }
      ],
      "source": [
        "# Melihat apa saja jenis entri dalam kolom \"Owner_Type\"\n",
        "print(df[\"Owner_Type\"].unique())"
      ]
    },
    {
      "cell_type": "code",
      "execution_count": null,
      "metadata": {
        "_kg_hide-input": true,
        "_kg_hide-output": true,
        "id": "IPEb2OuQy0Y-",
        "outputId": "21633a6a-72eb-48cf-e928-67c797e97f1a"
      },
      "outputs": [
        {
          "name": "stdout",
          "output_type": "stream",
          "text": [
            "There are 122 cars with the owner type third and above\n"
          ]
        }
      ],
      "source": [
        "# Mengambil entri yang merupakan \"Third\" dan \"Fourth & Above\"\n",
        "third = df[df[\"Owner_Type\"] == \"Third\"]\n",
        "fourth_above = df[df[\"Owner_Type\"] == \"Fourth & Above\"]\n",
        "\n",
        "# Menggabungkan kedua jenis entri tersebut\n",
        "third_above = pd.concat([third, fourth_above])\n",
        "\n",
        "print(\"There are\", third_above.shape[0],\n",
        "      \"cars with the owner type third and above\")"
      ]
    },
    {
      "cell_type": "markdown",
      "metadata": {
        "id": "Bv3tbuk7y0Y-"
      },
      "source": [
        "***JAWABAN***: Terdapat 122 mobil yang merupakan kepemilikan ketiga atau lebih"
      ]
    },
    {
      "cell_type": "markdown",
      "metadata": {
        "id": "FUa1ouQyy0Y_"
      },
      "source": [
        "# SOAL KESEMBILAN\n",
        "*Tipe bahan bakar apa yang memiliki mileage (konsumsi bahan bakar) paling hemat?*"
      ]
    },
    {
      "cell_type": "markdown",
      "metadata": {
        "id": "EfaVidhoy0Y_"
      },
      "source": [
        "Karena sebelumnya telah diketahui bahwa beberapa entri memiliki satuan yang berbeda dan *dtype* dari kolom \"Mileage\" adalah \"object\", maka perlu penyamaan satuan dan diubah menjadi \"float64\"."
      ]
    },
    {
      "cell_type": "code",
      "execution_count": null,
      "metadata": {
        "_kg_hide-input": true,
        "id": "wiWV-25Jy0Y_"
      },
      "outputs": [],
      "source": [
        "# Series untuk menangkap kolom \"Mileage\" dengan angka dan satuan terpisah\n",
        "mileage = df[\"Mileage\"].map(lambda x: str(x).split())\n",
        "\n",
        "\n",
        "# Menyiapkan Dataframe untuk menyusun dimasukkan\n",
        "# angka dan satuan dalam mileage\n",
        "df_mileage = pd.DataFrame(columns=[\"Mileage Number\", \"Mileage Unit\"])\n",
        "\n",
        "\n",
        "# Mengiterasi entri dalam \"Mileage\" untuk dimasukkan ke dalam Dataframe\n",
        "for row, value in enumerate(mileage):\n",
        "    \n",
        "    \n",
        "    # Ketika entri normal (berisi angka dan satuan), maka len-nya adalah 2\n",
        "    if len(value) == 2:\n",
        "        df_mileage.loc[row] = [value[0], value[1]]\n",
        "    \n",
        "    \n",
        "    # Namun ketika entri kosong (NaN), maka len-nya bukan 2\n",
        "    # maka entri yang dimasukkan adalah angka=0, satuan=NaN\n",
        "    else:\n",
        "        df_mileage.loc[row] = [0, *value]"
      ]
    },
    {
      "cell_type": "markdown",
      "metadata": {
        "id": "btlK62jGy0ZA"
      },
      "source": [
        "Selanjutnya cek apakah seluruh entri merupakan angka agar dapat dijadikan ke dalam bentuk \"float64\"."
      ]
    },
    {
      "cell_type": "code",
      "execution_count": null,
      "metadata": {
        "_kg_hide-input": true,
        "_kg_hide-output": true,
        "id": "OqvOzwV2y0ZA",
        "outputId": "5703a96b-e303-4582-c00e-84aa533d3c2e"
      },
      "outputs": [
        {
          "name": "stdout",
          "output_type": "stream",
          "text": [
            "Every entries are number\n"
          ]
        }
      ],
      "source": [
        "# Cek apakah seluruh entri angka benar-benar berupa angka\n",
        "not_number = []\n",
        "for entry in list(df_mileage[\"Mileage Number\"]):\n",
        "    try:\n",
        "        float(entry)\n",
        "    except ValueError:\n",
        "        not_number.append(entry)\n",
        "\n",
        "if not not_number:\n",
        "    print(\"Every entries are number\")\n",
        "else:\n",
        "    print(set(not_number))"
      ]
    },
    {
      "cell_type": "code",
      "execution_count": null,
      "metadata": {
        "_kg_hide-input": true,
        "_kg_hide-output": true,
        "id": "b2iUtONey0ZB"
      },
      "outputs": [],
      "source": [
        "# Mengubah dtype angka menjadi \"float64\"\n",
        "df_mileage[\"Mileage Number\"] = df_mileage[\"Mileage Number\"].astype(\"float64\")"
      ]
    },
    {
      "cell_type": "markdown",
      "metadata": {
        "id": "EmiwwMscy0ZD"
      },
      "source": [
        "Melihat nilai unik pada kolom \"Fuel_Type\"."
      ]
    },
    {
      "cell_type": "code",
      "execution_count": null,
      "metadata": {
        "_kg_hide-input": true,
        "_kg_hide-output": true,
        "id": "mei1Oz-4y0ZD",
        "outputId": "38f8d625-62f4-4060-f364-76e0426131cf"
      },
      "outputs": [
        {
          "name": "stdout",
          "output_type": "stream",
          "text": [
            "Diesel      3205\n",
            "Petrol      2746\n",
            "CNG           56\n",
            "LPG           10\n",
            "Electric       2\n",
            "Name: Fuel_Type, dtype: int64\n"
          ]
        }
      ],
      "source": [
        "# Melihat apa saja nilai unik dan jumlahnya pada kolom \"Fuel_Type\"\n",
        "print(df[\"Fuel_Type\"].value_counts())"
      ]
    },
    {
      "cell_type": "markdown",
      "metadata": {
        "id": "YvzFLG4ly0ZE"
      },
      "source": [
        "Melihat jenis satuan pada kolom \"Mileage\"."
      ]
    },
    {
      "cell_type": "code",
      "execution_count": null,
      "metadata": {
        "_kg_hide-input": true,
        "_kg_hide-output": true,
        "id": "zhUEWMbuy0ZE",
        "outputId": "789f077f-676b-4b98-f896-a3e85feb5d14"
      },
      "outputs": [
        {
          "name": "stdout",
          "output_type": "stream",
          "text": [
            "kmpl     5951\n",
            "km/kg      66\n",
            "nan         2\n",
            "Name: Mileage Unit, dtype: int64\n"
          ]
        }
      ],
      "source": [
        "# Inspeksi jenis satuan yang terdapat dalam \"Mileage\"\n",
        "print(df_mileage[\"Mileage Unit\"].value_counts())"
      ]
    },
    {
      "cell_type": "markdown",
      "metadata": {
        "id": "Pl-CCglDy0ZE"
      },
      "source": [
        "Karena mayoritas satuan berada dalam \"kmpl\", maka mari inspeksi satuan \"km/kg\" dan yang tidak memiliki satuan serta coba untuk mengubahnya menjadi kmpl apabila perlu."
      ]
    },
    {
      "cell_type": "markdown",
      "metadata": {
        "id": "Ayes1Xh4y0ZE"
      },
      "source": [
        "Entri km/kg"
      ]
    },
    {
      "cell_type": "code",
      "execution_count": null,
      "metadata": {
        "_kg_hide-input": true,
        "_kg_hide-output": true,
        "id": "66oZK_F2y0ZF",
        "outputId": "6ed95d6d-f273-4427-a97b-9047041ad483"
      },
      "outputs": [
        {
          "name": "stdout",
          "output_type": "stream",
          "text": [
            "CNG    56\n",
            "LPG    10\n",
            "Name: Fuel_Type, dtype: int64\n"
          ]
        }
      ],
      "source": [
        "# Melihat entri yang memiliki satuan km/kg\n",
        "df_with_kmkg = df[df_mileage[\"Mileage Unit\"] == \"km/kg\"]\n",
        "\n",
        "\n",
        "# Melihat \"Fuel_Type\" apa yang mereka miliki\n",
        "print(df_with_kmkg[\"Fuel_Type\"].value_counts())"
      ]
    },
    {
      "cell_type": "markdown",
      "metadata": {
        "id": "bYWszrwhy0ZF"
      },
      "source": [
        "Tidak ada entri / NaN"
      ]
    },
    {
      "cell_type": "code",
      "execution_count": null,
      "metadata": {
        "_kg_hide-input": true,
        "_kg_hide-output": true,
        "id": "Xy1Ux_ABy0ZF",
        "outputId": "8e3fb56b-f7aa-4d24-fbcd-266e035ac170"
      },
      "outputs": [
        {
          "data": {
            "text/html": [
              "<div>\n",
              "<style scoped>\n",
              "    .dataframe tbody tr th:only-of-type {\n",
              "        vertical-align: middle;\n",
              "    }\n",
              "\n",
              "    .dataframe tbody tr th {\n",
              "        vertical-align: top;\n",
              "    }\n",
              "\n",
              "    .dataframe thead th {\n",
              "        text-align: right;\n",
              "    }\n",
              "</style>\n",
              "<table border=\"1\" class=\"dataframe\">\n",
              "  <thead>\n",
              "    <tr style=\"text-align: right;\">\n",
              "      <th></th>\n",
              "      <th>Name</th>\n",
              "      <th>Location</th>\n",
              "      <th>Year</th>\n",
              "      <th>Kilometers_Driven</th>\n",
              "      <th>Fuel_Type</th>\n",
              "      <th>Transmission</th>\n",
              "      <th>Owner_Type</th>\n",
              "      <th>Mileage</th>\n",
              "      <th>Engine</th>\n",
              "      <th>Power</th>\n",
              "      <th>Seats</th>\n",
              "      <th>Price</th>\n",
              "    </tr>\n",
              "  </thead>\n",
              "  <tbody>\n",
              "    <tr>\n",
              "      <th>4446</th>\n",
              "      <td>Mahindra E Verito D4</td>\n",
              "      <td>Chennai</td>\n",
              "      <td>2016</td>\n",
              "      <td>50000</td>\n",
              "      <td>Electric</td>\n",
              "      <td>Automatic</td>\n",
              "      <td>First</td>\n",
              "      <td>NaN</td>\n",
              "      <td>72 CC</td>\n",
              "      <td>41 bhp</td>\n",
              "      <td>5.0</td>\n",
              "      <td>13.00</td>\n",
              "    </tr>\n",
              "    <tr>\n",
              "      <th>4904</th>\n",
              "      <td>Toyota Prius 2009-2016 Z4</td>\n",
              "      <td>Mumbai</td>\n",
              "      <td>2011</td>\n",
              "      <td>44000</td>\n",
              "      <td>Electric</td>\n",
              "      <td>Automatic</td>\n",
              "      <td>First</td>\n",
              "      <td>NaN</td>\n",
              "      <td>1798 CC</td>\n",
              "      <td>73 bhp</td>\n",
              "      <td>5.0</td>\n",
              "      <td>12.75</td>\n",
              "    </tr>\n",
              "  </tbody>\n",
              "</table>\n",
              "</div>"
            ],
            "text/plain": [
              "                           Name Location  Year  Kilometers_Driven Fuel_Type  \\\n",
              "4446       Mahindra E Verito D4  Chennai  2016              50000  Electric   \n",
              "4904  Toyota Prius 2009-2016 Z4   Mumbai  2011              44000  Electric   \n",
              "\n",
              "     Transmission Owner_Type Mileage   Engine   Power  Seats  Price  \n",
              "4446    Automatic      First     NaN    72 CC  41 bhp    5.0  13.00  \n",
              "4904    Automatic      First     NaN  1798 CC  73 bhp    5.0  12.75  "
            ]
          },
          "execution_count": 31,
          "metadata": {},
          "output_type": "execute_result"
        }
      ],
      "source": [
        "# Melihat entri yang tidak memiliki nilai (NaN)\n",
        "df_nan_mileage = df[df_mileage[\"Mileage Unit\"] == \"nan\"]\n",
        "df_nan_mileage"
      ]
    },
    {
      "cell_type": "markdown",
      "metadata": {
        "id": "zB8MhOtty0ZG"
      },
      "source": [
        "Diketahui bahwa kedua tipe bahan bakar (Fuel_Type) yang tidak memiliki nilai konsumsi bahan bakar (Mileage) adalah Electric dan Electric hanya terdapat dua entry saja dalam seluruh CSV File, maka aman untuk dikatakan bahwa Electric tidak bisa dijadikan patokan dalam mengukur kehematannya, atau dalam kata lain, dihilangkan saja."
      ]
    },
    {
      "cell_type": "markdown",
      "metadata": {
        "id": "BHZOf-1my0ZG"
      },
      "source": [
        "Serta karena tipe bensin yang memiliki konsumsi bahan bakar dalam unit km/kg adalah CNG dan LPG, maka aman pula untuk dikatakan bahwa seluruh satuan dalam kolom \"Mileage\" tidak memiliki pengaruh dalam membandingkan nilai angka setiap konsumsi bahan bakar."
      ]
    },
    {
      "cell_type": "code",
      "execution_count": null,
      "metadata": {
        "_kg_hide-input": true,
        "id": "KcGhYORGy0ZG",
        "outputId": "9db23a92-14f1-467c-b015-9ba85c844a1e"
      },
      "outputs": [
        {
          "data": {
            "text/html": [
              "<div>\n",
              "<style scoped>\n",
              "    .dataframe tbody tr th:only-of-type {\n",
              "        vertical-align: middle;\n",
              "    }\n",
              "\n",
              "    .dataframe tbody tr th {\n",
              "        vertical-align: top;\n",
              "    }\n",
              "\n",
              "    .dataframe thead th {\n",
              "        text-align: right;\n",
              "    }\n",
              "</style>\n",
              "<table border=\"1\" class=\"dataframe\">\n",
              "  <thead>\n",
              "    <tr style=\"text-align: right;\">\n",
              "      <th></th>\n",
              "      <th>Fuel_Type</th>\n",
              "      <th>CNG</th>\n",
              "      <th>Diesel</th>\n",
              "      <th>Electric</th>\n",
              "      <th>LPG</th>\n",
              "      <th>Petrol</th>\n",
              "    </tr>\n",
              "  </thead>\n",
              "  <tbody>\n",
              "    <tr>\n",
              "      <th rowspan=\"8\" valign=\"top\">Mileage Number</th>\n",
              "      <th>count</th>\n",
              "      <td>56.000000</td>\n",
              "      <td>3205.000000</td>\n",
              "      <td>2.0</td>\n",
              "      <td>10.000000</td>\n",
              "      <td>2746.000000</td>\n",
              "    </tr>\n",
              "    <tr>\n",
              "      <th>mean</th>\n",
              "      <td>25.418036</td>\n",
              "      <td>18.620484</td>\n",
              "      <td>0.0</td>\n",
              "      <td>19.385000</td>\n",
              "      <td>17.415204</td>\n",
              "    </tr>\n",
              "    <tr>\n",
              "      <th>std</th>\n",
              "      <td>5.953456</td>\n",
              "      <td>4.962370</td>\n",
              "      <td>0.0</td>\n",
              "      <td>5.340363</td>\n",
              "      <td>3.819760</td>\n",
              "    </tr>\n",
              "    <tr>\n",
              "      <th>min</th>\n",
              "      <td>13.200000</td>\n",
              "      <td>0.000000</td>\n",
              "      <td>0.0</td>\n",
              "      <td>13.450000</td>\n",
              "      <td>0.000000</td>\n",
              "    </tr>\n",
              "    <tr>\n",
              "      <th>25%</th>\n",
              "      <td>22.100000</td>\n",
              "      <td>14.840000</td>\n",
              "      <td>0.0</td>\n",
              "      <td>14.412500</td>\n",
              "      <td>15.640000</td>\n",
              "    </tr>\n",
              "    <tr>\n",
              "      <th>50%</th>\n",
              "      <td>26.600000</td>\n",
              "      <td>19.010000</td>\n",
              "      <td>0.0</td>\n",
              "      <td>18.250000</td>\n",
              "      <td>17.800000</td>\n",
              "    </tr>\n",
              "    <tr>\n",
              "      <th>75%</th>\n",
              "      <td>27.737500</td>\n",
              "      <td>22.690000</td>\n",
              "      <td>0.0</td>\n",
              "      <td>24.925000</td>\n",
              "      <td>19.400000</td>\n",
              "    </tr>\n",
              "    <tr>\n",
              "      <th>max</th>\n",
              "      <td>33.540000</td>\n",
              "      <td>28.400000</td>\n",
              "      <td>0.0</td>\n",
              "      <td>26.200000</td>\n",
              "      <td>26.000000</td>\n",
              "    </tr>\n",
              "  </tbody>\n",
              "</table>\n",
              "</div>"
            ],
            "text/plain": [
              "Fuel_Type                   CNG       Diesel  Electric        LPG       Petrol\n",
              "Mileage Number count  56.000000  3205.000000       2.0  10.000000  2746.000000\n",
              "               mean   25.418036    18.620484       0.0  19.385000    17.415204\n",
              "               std     5.953456     4.962370       0.0   5.340363     3.819760\n",
              "               min    13.200000     0.000000       0.0  13.450000     0.000000\n",
              "               25%    22.100000    14.840000       0.0  14.412500    15.640000\n",
              "               50%    26.600000    19.010000       0.0  18.250000    17.800000\n",
              "               75%    27.737500    22.690000       0.0  24.925000    19.400000\n",
              "               max    33.540000    28.400000       0.0  26.200000    26.000000"
            ]
          },
          "execution_count": 32,
          "metadata": {},
          "output_type": "execute_result"
        }
      ],
      "source": [
        "# Membuat Dataframe berisi tipe bahan bakar dan angka konsumsi bahan bakar\n",
        "df_fueltype_mileage = df[[\"Fuel_Type\"]].join(df_mileage[\"Mileage Number\"])\n",
        "\n",
        "\n",
        "# Buat ringkasan statistik Dataframe tersebut\n",
        "df_fuel_mileage_desc = df_fueltype_mileage.groupby(\"Fuel_Type\").describe().T\n",
        "df_fuel_mileage_desc"
      ]
    },
    {
      "cell_type": "code",
      "execution_count": null,
      "metadata": {
        "id": "rRskOsY2y0ZG",
        "outputId": "bea3cea6-2aa7-4169-918a-934138c00aa4"
      },
      "outputs": [
        {
          "data": {
            "image/png": "[encoded data removed]",
            "text/plain": [
              "<Figure size 1080x504 with 2 Axes>"
            ]
          },
          "metadata": {},
          "output_type": "display_data"
        }
      ],
      "source": [
        "# Urutan sumbu x\n",
        "graph_order = df_fueltype_mileage.groupby(\"Fuel_Type\")[\"Mileage Number\"]\\\n",
        "                                 .mean().sort_values(ascending=False).index\n",
        "\n",
        "# Menyiapkan susunan grafik\n",
        "fig, ax = plt.subplots(1, 2, figsize=[15, 7])\n",
        "\n",
        "\n",
        "# Grafik batang untuk rata-rata (garis menandakan error)\n",
        "sns.barplot(x=\"Fuel_Type\", y=\"Mileage Number\",\n",
        "            data=df_fueltype_mileage, ax=ax[0], capsize=.15,\n",
        "            order=graph_order);\n",
        "ax[0].set_title(\"Mean Mileage per Fuel Type\",\n",
        "                fontsize=14, fontweight=\"bold\");\n",
        "\n",
        "\n",
        "# Grafik boxplot\n",
        "sns.boxplot(x=\"Fuel_Type\", y=\"Mileage Number\", data=df_fueltype_mileage,\n",
        "            order=graph_order);\n",
        "ax[1].set_title(\"Distribution of Mileage per Fuel Type\",\n",
        "               fontsize=14, fontweight=\"bold\");"
      ]
    },
    {
      "cell_type": "markdown",
      "metadata": {
        "id": "p1ifJpAgy0ZH"
      },
      "source": [
        "***JAWABAN***: Berdasarkan *output* di atas, tipe bahan bakar yang paling hemat adalah **CNG**"
      ]
    },
    {
      "cell_type": "markdown",
      "metadata": {
        "id": "A8Ldt8sny0ZH"
      },
      "source": [
        "# SOAL KESEPULUH\n",
        "*Apa saja faktor-faktor yang mempengaruhi harga mobil bekas di India? Sertakan argumen yang mendukung jawaban.*"
      ]
    },
    {
      "cell_type": "markdown",
      "metadata": {
        "id": "7sYL9xzmy0ZH"
      },
      "source": [
        "Dalam mencari korelasi, entri-entri yang tidak memiliki nilai (NaN) agar tidak memengaruhi hasil perlu didrop dari Dataframe."
      ]
    },
    {
      "cell_type": "code",
      "execution_count": null,
      "metadata": {
        "_kg_hide-input": true,
        "_kg_hide-output": true,
        "id": "u3ISAysOy0ZI",
        "outputId": "18e11fd7-875c-4ce4-97da-eb2f97c359a9"
      },
      "outputs": [
        {
          "data": {
            "text/plain": [
              "Int64Index([ 194,  208,  229,  733,  749, 1294, 1327, 1385, 1460, 1917, 2074,\n",
              "            2096, 2264, 2325, 2335, 2369, 2530, 2542, 2623, 2668, 2737, 2780,\n",
              "            2842, 3272, 3404, 3520, 3522, 3800, 3810, 3882, 4011, 4152, 4229,\n",
              "            4446, 4577, 4604, 4697, 4712, 4904, 4952, 5015, 5185, 5270, 5893],\n",
              "           dtype='int64')"
            ]
          },
          "execution_count": 34,
          "metadata": {},
          "output_type": "execute_result"
        }
      ],
      "source": [
        "# Mencari index yang memiliki nilai NaN untuk kemudian di-drop\n",
        "nan_index = df[pd.isnull(df).any(1)].index\n",
        "nan_index"
      ]
    },
    {
      "cell_type": "code",
      "execution_count": null,
      "metadata": {
        "_kg_hide-input": true,
        "_kg_hide-output": true,
        "id": "SPtFuZpvy0ZI",
        "outputId": "bfd592da-2757-4c95-eccb-91bb189cfe6d"
      },
      "outputs": [
        {
          "name": "stdout",
          "output_type": "stream",
          "text": [
            "There are 44 rows removed due to having NaN values\n"
          ]
        }
      ],
      "source": [
        "# Dataframe utama yang sudah di-drop seluruh nilai NaN\n",
        "df_nonan = df.dropna()\n",
        "print(\"There are {} rows removed due to having NaN values\"\\\n",
        "     .format(df.shape[0] - df_nonan.shape[0]))"
      ]
    },
    {
      "cell_type": "markdown",
      "metadata": {
        "id": "Zd6jJjhhy0ZJ"
      },
      "source": [
        "Untuk mengetahui seluruh variabel angka dalam *dtype* \"object\", perlu disamakan satuannya dan dikonversi *dtype*-nya menjadi \"float64\". Kolom-kolom tersebut adalah \"Mileage\", \"Engine\", dan \"Power\"."
      ]
    },
    {
      "cell_type": "markdown",
      "metadata": {
        "id": "rufcQQTKy0ZJ"
      },
      "source": [
        "### Mileage\n",
        "Pada nomor sembilan kolom ini sudah diambil nilai integer-nya, maka untuk menyamakan jumlah kolom mari drop index yang tergolong index NaN."
      ]
    },
    {
      "cell_type": "code",
      "execution_count": null,
      "metadata": {
        "_kg_hide-input": true,
        "id": "Pz4Xrw33y0ZJ"
      },
      "outputs": [],
      "source": [
        "df_mileage2 = df_mileage.drop(nan_index)"
      ]
    },
    {
      "cell_type": "markdown",
      "metadata": {
        "id": "TCWKDTKKy0ZK"
      },
      "source": [
        "### Engine"
      ]
    },
    {
      "cell_type": "code",
      "execution_count": null,
      "metadata": {
        "_kg_hide-input": true,
        "id": "AQtivCvJy0ZK"
      },
      "outputs": [],
      "source": [
        "# Series untuk menangkap kolom \"Engine\" dengan angka dan satuan terpisah\n",
        "engine = df[\"Engine\"].map(lambda x: str(x).split())\n",
        "\n",
        "\n",
        "# Menyiapkan Dataframe untuk menyusun dimasukkan\n",
        "# angka dan satuan dalam engine\n",
        "df_engine = pd.DataFrame(columns=[\"Engine Number\", \"Engine Unit\"])\n",
        "\n",
        "\n",
        "# Mengiterasi entri dalam \"Engine\" untuk dimasukkan ke dalam Dataframe\n",
        "for row, value in enumerate(engine):\n",
        "    if len(value) == 2:\n",
        "        df_engine.loc[row] = [value[0], value[1]]\n",
        "    else:\n",
        "        df_engine.loc[row] = [np.nan, np.nan]"
      ]
    },
    {
      "cell_type": "code",
      "execution_count": null,
      "metadata": {
        "_kg_hide-input": true,
        "id": "_B78OpSqy0ZK"
      },
      "outputs": [],
      "source": [
        "# Drop entri NaN\n",
        "df_engine = df_engine.drop(nan_index)"
      ]
    },
    {
      "cell_type": "code",
      "execution_count": null,
      "metadata": {
        "_kg_hide-input": true,
        "_kg_hide-output": true,
        "id": "JrRPc-jOy0ZL",
        "outputId": "9e40148e-c9c3-40b6-9bfd-6660c2a00fc8"
      },
      "outputs": [
        {
          "name": "stdout",
          "output_type": "stream",
          "text": [
            "Every entries are number\n"
          ]
        }
      ],
      "source": [
        "# Cek apakah seluruh entri engine angka benar-benar berupa angka\n",
        "not_number = []\n",
        "for entry in list(df_engine[\"Engine Number\"]):\n",
        "    try:\n",
        "        float(entry)\n",
        "    except:\n",
        "        not_number.append(entry)\n",
        "\n",
        "if not not_number:\n",
        "    print(\"Every entries are number\")\n",
        "else:\n",
        "    print(not_number)"
      ]
    },
    {
      "cell_type": "code",
      "execution_count": null,
      "metadata": {
        "_kg_hide-input": true,
        "id": "L5UpwAmTy0ZL"
      },
      "outputs": [],
      "source": [
        "# Mengubah dtype angka menjadi \"float64\"\n",
        "df_engine[\"Engine Number\"] = df_engine[\"Engine Number\"].astype(\"float64\")"
      ]
    },
    {
      "cell_type": "code",
      "execution_count": null,
      "metadata": {
        "_kg_hide-input": true,
        "_kg_hide-output": true,
        "id": "eUcCni2Fy0ZM",
        "outputId": "768aa3c4-a185-4f9b-fbff-3120ebf70e65"
      },
      "outputs": [
        {
          "data": {
            "text/plain": [
              "array(['CC'], dtype=object)"
            ]
          },
          "execution_count": 41,
          "metadata": {},
          "output_type": "execute_result"
        }
      ],
      "source": [
        "# Mengecek ada berapa satuan dalam entri\n",
        "df_engine[\"Engine Unit\"].unique()"
      ]
    },
    {
      "cell_type": "markdown",
      "metadata": {
        "id": "B-3KpSRVy0ZN"
      },
      "source": [
        "### Power"
      ]
    },
    {
      "cell_type": "code",
      "execution_count": null,
      "metadata": {
        "_kg_hide-input": true,
        "id": "hvCNluf9y0ZN"
      },
      "outputs": [],
      "source": [
        "# Series untuk menangkap kolom \"Power\" dengan angka dan satuan terpisah\n",
        "power = df[\"Power\"].map(lambda x: str(x).split())\n",
        "\n",
        "\n",
        "# Menyiapkan Dataframe untuk menyusun dimasukkan\n",
        "# angka dan satuan dalam power\n",
        "df_power = pd.DataFrame(columns=[\"Power Number\", \"Power Unit\"])\n",
        "\n",
        "\n",
        "# Mengiterasi entri dalam \"Power\" untuk dimasukkan ke dalam Dataframe\n",
        "for row, value in enumerate(power):\n",
        "    if len(value) == 2:\n",
        "        df_power.loc[row] = [value[0], value[1]]\n",
        "    else:\n",
        "        df_power.loc[row] = [np.nan, np.nan]"
      ]
    },
    {
      "cell_type": "code",
      "execution_count": null,
      "metadata": {
        "_kg_hide-input": true,
        "id": "OIUWTB7iy0ZN"
      },
      "outputs": [],
      "source": [
        "# Drop entri NaN\n",
        "df_power = df_power.drop(nan_index)"
      ]
    },
    {
      "cell_type": "code",
      "execution_count": null,
      "metadata": {
        "_kg_hide-input": true,
        "_kg_hide-output": true,
        "id": "SAjHRtKay0ZO",
        "outputId": "96d05cd1-1d17-4d71-ffeb-eb02902451f3"
      },
      "outputs": [
        {
          "name": "stdout",
          "output_type": "stream",
          "text": [
            "{'null'}\n"
          ]
        }
      ],
      "source": [
        "# Cek apakah seluruh entri engine angka benar-benar berupa angka\n",
        "not_number = []\n",
        "for entry in list(df_power[\"Power Number\"]):\n",
        "    try:\n",
        "        float(entry)\n",
        "    except ValueError:\n",
        "        not_number.append(entry)\n",
        "\n",
        "if not not_number:\n",
        "    print(\"Every entries are number\")\n",
        "else:\n",
        "    print(set(not_number))"
      ]
    },
    {
      "cell_type": "markdown",
      "metadata": {
        "id": "K3sYh6gky0ZO"
      },
      "source": [
        "Ternyata selain entri kosong / NaN, terdapat entri kosong pula yang bukan teregister sebagai NaN dalam pandas, yaitu \"null bhp\". Karenanya, seluruh entri dalam Dataframe yang memiliki nilai power berupa \"null bhp\" perlu di-*drop* agar tidak memengaruhi perhitungan."
      ]
    },
    {
      "cell_type": "code",
      "execution_count": null,
      "metadata": {
        "_kg_hide-input": true,
        "_kg_hide-output": true,
        "id": "cks5xvWjy0ZO"
      },
      "outputs": [],
      "source": [
        "# Diketahui beberapa entri ada yang berupa str(\"null bhp\")\n",
        "# Cari index tersebut dan drop baris tersebut dari\n",
        "# perhitungan korelasi\n",
        "null_index = list(df_power[df_power[\"Power Number\"] == \"null\"].index)"
      ]
    },
    {
      "cell_type": "markdown",
      "metadata": {
        "id": "1157B_9Py0ZP"
      },
      "source": [
        "Selain terdapat entri null, perlu diingat dalam variabel \"Kilometers_Driven\", terdapat outlier yang sangat besar, mari drop index itu juga."
      ]
    },
    {
      "cell_type": "code",
      "execution_count": null,
      "metadata": {
        "_kg_hide-input": true,
        "id": "bLsnaxrGy0ZP"
      },
      "outputs": [],
      "source": [
        "# Men-drop index pada ketiga series yang entri powernya adalah null\n",
        "# serta menyiapkan copy df yang juga tanpa NaN dan null\n",
        "df_mileage2 = df_mileage2.drop(null_index).drop(2328)\n",
        "df_engine = df_engine.drop(null_index).drop(2328)\n",
        "df_power = df_power.drop(null_index).drop(2328)\n",
        "df_nonan = df_nonan.drop(null_index).drop(2328)"
      ]
    },
    {
      "cell_type": "code",
      "execution_count": null,
      "metadata": {
        "_kg_hide-input": true,
        "id": "AKBjdBA_y0ZP"
      },
      "outputs": [],
      "source": [
        "# Mengubah dtype angka menjadi \"float64\"\n",
        "df_power[\"Power Number\"] = df_power[\"Power Number\"].astype(\"float64\")"
      ]
    },
    {
      "cell_type": "code",
      "execution_count": null,
      "metadata": {
        "_kg_hide-input": true,
        "_kg_hide-output": true,
        "id": "7wqH0XfVy0ZP",
        "outputId": "82f7e838-6e6e-4591-8ba2-e6b6cc1627c3"
      },
      "outputs": [
        {
          "data": {
            "text/plain": [
              "array(['bhp'], dtype=object)"
            ]
          },
          "execution_count": 48,
          "metadata": {},
          "output_type": "execute_result"
        }
      ],
      "source": [
        "# Mengecek ada berapa satuan dalam entri\n",
        "df_power[\"Power Unit\"].unique()"
      ]
    },
    {
      "cell_type": "markdown",
      "metadata": {
        "id": "OuLeBClhy0ZQ"
      },
      "source": [
        "Karena seluruh satuan pada kolom \"Engine\" dan \"Power\" adalah sama, maka mari langsung membuat tabel korelasi."
      ]
    },
    {
      "cell_type": "code",
      "execution_count": null,
      "metadata": {
        "_kg_hide-input": true,
        "id": "bBQo1bmLy0ZQ"
      },
      "outputs": [],
      "source": [
        "# Menyusun Dataframe untuk korelasi variabel angka\n",
        "df_corr = df_nonan.join([df_mileage2, df_engine, df_power])"
      ]
    },
    {
      "cell_type": "code",
      "execution_count": null,
      "metadata": {
        "_kg_hide-input": true,
        "id": "maw3lAUry0ZQ",
        "outputId": "f41c432a-de47-4474-9813-b9b79dc332fa"
      },
      "outputs": [
        {
          "data": {
            "image/png": "[encoded data removed]",
            "text/plain": [
              "<Figure size 432x288 with 2 Axes>"
            ]
          },
          "metadata": {},
          "output_type": "display_data"
        }
      ],
      "source": [
        "# Melihat korelasi antar seluruh variabel\n",
        "hm = sns.heatmap(round(df_corr.corr(), 2), annot=True, center=0, vmin=-1);\n",
        "hm.set_xticklabels(hm.get_xticklabels(), rotation=45,\n",
        "                   ha=\"right\", rotation_mode=\"anchor\");"
      ]
    },
    {
      "cell_type": "code",
      "execution_count": null,
      "metadata": {
        "_kg_hide-input": true,
        "_kg_hide-output": false,
        "id": "skrSgTgNy0ZQ",
        "outputId": "4d9b84f1-34f0-4f9c-e131-43a788c26661"
      },
      "outputs": [
        {
          "data": {
            "text/html": [
              "<div>\n",
              "<style scoped>\n",
              "    .dataframe tbody tr th:only-of-type {\n",
              "        vertical-align: middle;\n",
              "    }\n",
              "\n",
              "    .dataframe tbody tr th {\n",
              "        vertical-align: top;\n",
              "    }\n",
              "\n",
              "    .dataframe thead th {\n",
              "        text-align: right;\n",
              "    }\n",
              "</style>\n",
              "<table border=\"1\" class=\"dataframe\">\n",
              "  <thead>\n",
              "    <tr style=\"text-align: right;\">\n",
              "      <th></th>\n",
              "      <th>Variable</th>\n",
              "      <th>Correlation with Price</th>\n",
              "    </tr>\n",
              "  </thead>\n",
              "  <tbody>\n",
              "    <tr>\n",
              "      <th>0</th>\n",
              "      <td>Year</td>\n",
              "      <td>0.299192</td>\n",
              "    </tr>\n",
              "    <tr>\n",
              "      <th>1</th>\n",
              "      <td>Kilometers_Driven</td>\n",
              "      <td>-0.163565</td>\n",
              "    </tr>\n",
              "    <tr>\n",
              "      <th>2</th>\n",
              "      <td>Seats</td>\n",
              "      <td>0.055959</td>\n",
              "    </tr>\n",
              "    <tr>\n",
              "      <th>3</th>\n",
              "      <td>Mileage Number</td>\n",
              "      <td>-0.341924</td>\n",
              "    </tr>\n",
              "    <tr>\n",
              "      <th>4</th>\n",
              "      <td>Engine Number</td>\n",
              "      <td>0.657790</td>\n",
              "    </tr>\n",
              "    <tr>\n",
              "      <th>5</th>\n",
              "      <td>Power Number</td>\n",
              "      <td>0.772661</td>\n",
              "    </tr>\n",
              "  </tbody>\n",
              "</table>\n",
              "</div>"
            ],
            "text/plain": [
              "            Variable  Correlation with Price\n",
              "0               Year                0.299192\n",
              "1  Kilometers_Driven               -0.163565\n",
              "2              Seats                0.055959\n",
              "3     Mileage Number               -0.341924\n",
              "4      Engine Number                0.657790\n",
              "5       Power Number                0.772661"
            ]
          },
          "execution_count": 51,
          "metadata": {},
          "output_type": "execute_result"
        }
      ],
      "source": [
        "# Melihat korelasi khusus dengan price\n",
        "df_corr.corr()[\"Price\"].drop(\"Price\").reset_index()\\\n",
        ".rename(columns={\"index\": \"Variable\", \"Price\": \"Correlation with Price\"})"
      ]
    },
    {
      "cell_type": "markdown",
      "metadata": {
        "id": "QbnhDbE_y0ZR"
      },
      "source": [
        "Visualisasi korelasi dengan variabel angka."
      ]
    },
    {
      "cell_type": "code",
      "execution_count": null,
      "metadata": {
        "_kg_hide-input": true,
        "id": "0jP_GcM_y0ZR",
        "outputId": "caad885f-a4a0-4004-b926-436b9e6ab265"
      },
      "outputs": [
        {
          "data": {
            "image/png": "[encoded data removed]",
            "text/plain": [
              "<Figure size 1008x1080 with 6 Axes>"
            ]
          },
          "metadata": {},
          "output_type": "display_data"
        }
      ],
      "source": [
        "# Memvisualisasi korelasi variabel price dengan variabel angka lainnya\n",
        "fig, ax = plt.subplots(3, 2, figsize=[14, 15])\n",
        "\n",
        "# Korelasi dengan tahun\n",
        "sns.regplot(df_corr[\"Year\"], df_corr[\"Price\"], ax=ax[0, 0]);\n",
        "ax[0, 0].set_title(\"Year x Price\", fontsize=14)\n",
        "ax[0, 0].set_xticks(np.arange(min(df_corr[\"Year\"]),\n",
        "                              max(df_corr[\"Year\"]), 5));\n",
        "\n",
        "# Korelasi dengan total jarak pemakaian\n",
        "sns.regplot(df_corr[\"Kilometers_Driven\"], df_corr[\"Price\"],\n",
        "            ax=ax[0, 1], color=\"g\");\n",
        "ax[0, 1].set_title(\"Kilometers Driven x Price\", fontsize=14)\n",
        "\n",
        "# Korelasi dengan konsumsi bahan bakar\n",
        "sns.regplot(df_corr[\"Mileage Number\"], df_corr[\"Price\"],\n",
        "            ax=ax[1, 0], color=\"r\");\n",
        "ax[1, 0].set_title(\"Mileage x Price\", fontsize=14)\n",
        "\n",
        "# Korelasi dengan mesin\n",
        "sns.regplot(df_corr[\"Engine Number\"], df_corr[\"Price\"],\n",
        "            ax=ax[1, 1], color=\"c\");\n",
        "ax[1, 1].set_title(\"Engine x Price\", fontsize=14)\n",
        "\n",
        "# Korelasi dengan kekuatan/power\n",
        "sns.regplot(df_corr[\"Power Number\"], df_corr[\"Price\"],\n",
        "            ax=ax[2, 0], color=\"m\");\n",
        "ax[2, 0].set_title(\"Power x Price\", fontsize=14)\n",
        "\n",
        "# Korelasi dengan banyak jok\n",
        "sns.regplot(df_corr[\"Seats\"], df_corr[\"Price\"],\n",
        "            ax=ax[2, 1], color=\"y\");\n",
        "ax[2, 1].set_title(\"Seats x Price\", fontsize=14)\n",
        "\n",
        "fig.tight_layout(pad=3)"
      ]
    },
    {
      "cell_type": "markdown",
      "metadata": {
        "id": "tZVj9vO8y0ZR"
      },
      "source": [
        "Visualisasi rata-rata setiap variabel kategori terhadap harga."
      ]
    },
    {
      "cell_type": "code",
      "execution_count": null,
      "metadata": {
        "_kg_hide-input": true,
        "id": "5sjkD6C1y0ZR",
        "outputId": "32ebec33-79c2-4866-f0a6-38eeccd357b0"
      },
      "outputs": [
        {
          "data": {
            "image/png": "[encoded data removed]",
            "text/plain": [
              "<Figure size 1008x648 with 4 Axes>"
            ]
          },
          "metadata": {},
          "output_type": "display_data"
        }
      ],
      "source": [
        "# Menyiapkan urutan susunan variabel dalam grafik\n",
        "location_order = df.groupby(\"Location\")[\"Price\"].mean()\\\n",
        "                 .sort_values(ascending=False).index\n",
        "transmission_order = df.groupby(\"Transmission\")[\"Price\"].mean()\\\n",
        "                     .sort_values(ascending=False).index\n",
        "fueltype_order = df.groupby(\"Fuel_Type\")[\"Price\"].mean()\\\n",
        "                 .sort_values(ascending=False).index\n",
        "ownertype_order = df.groupby(\"Owner_Type\")[\"Price\"].mean()\\\n",
        "                  .sort_values(ascending=False).index\n",
        "\n",
        "\n",
        "# Memvisualisasi  rata-rata price pada setiap variabel kategori\n",
        "fig, ax = plt.subplots(2, 2, figsize=[14, 9])\n",
        "\n",
        "# Dengan lokasi\n",
        "sns.barplot(x=\"Location\", y=\"Price\", data=df,\n",
        "            order=location_order, ax=ax[0, 0], capsize=.1);\n",
        "ax[0, 0].set_xticklabels(ax[0, 0].get_xticklabels(),\n",
        "                         rotation=45, ha=\"right\", rotation_mode=\"anchor\");\n",
        "ax[0, 0].set_title(\"Price Mean per Location\", fontsize=14);\n",
        "\n",
        "# Dengan jenis transmisi\n",
        "sns.barplot(x=\"Transmission\", y=\"Price\", data=df,\n",
        "            order=transmission_order, ax=ax[0, 1], capsize=.1);\n",
        "ax[0, 1].set_title(\"Price Mean per Transmission\", fontsize=14);\n",
        "\n",
        "# Dengan jenis bahan bakar\n",
        "sns.barplot(x=\"Fuel_Type\", y=\"Price\", data=df,\n",
        "            order=fueltype_order, ax=ax[1, 0], capsize=.1);\n",
        "ax[1, 0].set_title(\"Price Mean per Fuel Type\", fontsize=14);\n",
        "\n",
        "# Dengan jenis kepemilikan\n",
        "sns.barplot(x=\"Owner_Type\", y=\"Price\", data=df,\n",
        "            order=ownertype_order, ax=ax[1, 1], capsize=.1);\n",
        "ax[1, 1].set_title(\"Price Mean per Owner Type\", fontsize=14);\n",
        "\n",
        "fig.tight_layout(pad=3)"
      ]
    }
  ],
  "metadata": {
    "colab": {
      "name": "econviz-compfest-selection-notebook.ipynb",
      "provenance": []
    },
    "kernelspec": {
      "display_name": "Python 3",
      "language": "python",
      "name": "python3"
    },
    "language_info": {
      "codemirror_mode": {
        "name": "ipython",
        "version": 3
      },
      "file_extension": ".py",
      "mimetype": "text/x-python",
      "name": "python",
      "nbconvert_exporter": "python",
      "pygments_lexer": "ipython3",
      "version": "3.7.6"
    }
  },
  "nbformat": 4,
  "nbformat_minor": 0
}
